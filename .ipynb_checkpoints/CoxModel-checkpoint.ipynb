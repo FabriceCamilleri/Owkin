{
 "cells": [
  {
   "cell_type": "markdown",
   "metadata": {},
   "source": [
    "# Cox model"
   ]
  },
  {
   "cell_type": "markdown",
   "metadata": {},
   "source": [
    "We will use the cox model with the result of the feature selection done in Lasso (part done in R)"
   ]
  },
  {
   "cell_type": "code",
   "execution_count": 3,
   "metadata": {},
   "outputs": [],
   "source": [
    "# we impot tools where we have defined usefull functions \n",
    "import tools\n",
    "import pandas as pd\n",
    "import numpy as np\n",
    "from lifelines import CoxPHFitter"
   ]
  },
  {
   "cell_type": "code",
   "execution_count": 7,
   "metadata": {},
   "outputs": [],
   "source": [
    "trainingSet=pd.read_csv('mergedStandardizedTrainingSet.csv').set_index('PatientID')\n",
    "testingSet=pd.read_csv('mergedStandardizedTestingSet.csv').set_index('PatientID')"
   ]
  },
  {
   "cell_type": "code",
   "execution_count": 41,
   "metadata": {},
   "outputs": [
    {
     "name": "stdout",
     "output_type": "stream",
     "text": [
      "0.7217002024801563\n"
     ]
    }
   ],
   "source": [
    "# We initialise the cox model with a penalizer. This will allow regularizating the coeffecicients\n",
    "cph = CoxPHFitter(penalizer=0.2)\n",
    "\n",
    "# we fit the model with the feature selected in R thanks to Lasso\n",
    "\n",
    "cph.fit(trainingSet[['Nstage', 'SourceDataset', 'original_shape_VoxelVolume', 'original_firstorder_Maximum'\n",
    "                                        , 'original_firstorder_Mean'\n",
    "                                        , 'original_glcm_Idn', 'original_glcm_Idm', 'original_glrlm_RunPercentage'\n",
    "                                        , 'age', 'original_glcm_ClusterProminence'\n",
    "                                        , 'SurvivalTime', 'Event']]\n",
    "        , duration_col='SurvivalTime', event_col='Event')\n",
    "\n",
    "# we predict the median\n",
    "predictionFromTraining=cph.predict_median(trainingSet)\n",
    "# When the rediction is inf, we set it to the max survival time of the training set\n",
    "predictionFromTraining=predictionFromTraining.replace([np.inf, -np.inf], max(trainingSet.SurvivalTime))\n",
    "# We change the name the column 0.5\n",
    "predictionFromTraining.rename(columns = {0.5:'SurvivalTime'}, inplace = True)\n",
    "# We get the metric '' thanks to the provided function\n",
    "print(tools.getMetric (predictionFromTraining, trainingSet[['SurvivalTime','Event']]))\n",
    "# we do the same operations for the Testing set\n",
    "predictionFromTesting=cph.predict_median(testingSet)\n",
    "predictionFromTesting=predictionFromTesting.replace([np.inf, -np.inf], 3500)\n",
    "predictionFromTesting.rename(columns = {0.5:'SurvivalTime'}, inplace = True)\n",
    "# we create a column 'nan' for the submission\n",
    "predictionFromTesting['Event']='nan'\n",
    "predictionFromTesting.to_csv('5thAttemptUsingPythonLifeline.csv')"
   ]
  },
  {
   "cell_type": "code",
   "execution_count": null,
   "metadata": {},
   "outputs": [],
   "source": []
  }
 ],
 "metadata": {
  "kernelspec": {
   "display_name": "Python 3",
   "language": "python",
   "name": "python3"
  },
  "language_info": {
   "codemirror_mode": {
    "name": "ipython",
    "version": 3
   },
   "file_extension": ".py",
   "mimetype": "text/x-python",
   "name": "python",
   "nbconvert_exporter": "python",
   "pygments_lexer": "ipython3",
   "version": "3.7.3"
  }
 },
 "nbformat": 4,
 "nbformat_minor": 2
}
