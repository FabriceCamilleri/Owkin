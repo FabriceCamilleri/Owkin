{
 "cells": [
  {
   "cell_type": "markdown",
   "metadata": {},
   "source": [
    "# Random Forest"
   ]
  },
  {
   "cell_type": "code",
   "execution_count": 58,
   "metadata": {},
   "outputs": [],
   "source": [
    "library(glmnet)\n",
    "library(survival)\n",
    "library(survminer)\n",
    "library(randomForestSRC)"
   ]
  },
  {
   "cell_type": "code",
   "execution_count": 59,
   "metadata": {},
   "outputs": [],
   "source": [
    "# we get the data that have been prepared\n",
    "trainingSet=read.csv('mergedStandardizedTrainingSet.csv')\n",
    "row.names(trainingSet)=trainingSet[,1]\n",
    "trainingSet=trainingSet[,-1]\n",
    "testingSet=read.csv('mergedStandardizedTestingSet.csv')\n",
    "row.names(testingSet)=testingSet[,1]\n",
    "testingSet=testingSet[,-1]"
   ]
  },
  {
   "cell_type": "code",
   "execution_count": 69,
   "metadata": {},
   "outputs": [],
   "source": [
    "# We run a random forest with default values\n",
    "rf <- rfsrc(Surv(SurvivalTime, Event) ~ ., trainingSet, )"
   ]
  },
  {
   "cell_type": "code",
   "execution_count": 66,
   "metadata": {},
   "outputs": [],
   "source": [
    "#we predict the testingSet\n",
    "p=predict(rf, testingSet)"
   ]
  },
  {
   "cell_type": "code",
   "execution_count": 81,
   "metadata": {},
   "outputs": [],
   "source": [
    "# We take in the prediction the median of the survival time, or the highest survival time when there is not median\n",
    "PredictedMedianTestingSet=list()\n",
    "for (i in 1:length(p$survival[,1]))\n",
    "    {\n",
    "    PredictedMedianTestingSet[i]=min(p$time.interest[abs(p$survival[i,]-0.5)==min(abs(p$survival[i,]-0.5))])\n",
    "    }"
   ]
  },
  {
   "cell_type": "code",
   "execution_count": 114,
   "metadata": {},
   "outputs": [],
   "source": [
    "# Preparing the output\n",
    "Prediction=as.data.frame(as.matrix(PredictedMedianTestingSet))\n",
    "Prediction[,'SurvivalTime']=Prediction\n",
    "Prediction[,'PatientID']=as.data.frame(as.numeric(row.names(testingSet)))\n",
    "row.names(Prediction)=Prediction[,'PatientID']\n",
    "Prediction[,'Event']='nan'\n",
    "Prediction=Prediction[,c(-1,-3)]\n",
    "write.csv(as.matrix(Prediction), '1stAttemptWithRF.csv')"
   ]
  }
 ],
 "metadata": {
  "kernelspec": {
   "display_name": "R",
   "language": "R",
   "name": "ir"
  },
  "language_info": {
   "codemirror_mode": "r",
   "file_extension": ".r",
   "mimetype": "text/x-r-source",
   "name": "R",
   "pygments_lexer": "r",
   "version": "3.6.1"
  }
 },
 "nbformat": 4,
 "nbformat_minor": 2
}
