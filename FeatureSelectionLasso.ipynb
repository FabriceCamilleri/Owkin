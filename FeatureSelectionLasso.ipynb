{
 "cells": [
  {
   "cell_type": "markdown",
   "metadata": {},
   "source": [
    "# Lasso feature selection\n",
    "In this notebook we will use lasso for feature selection on:"
   ]
  },
  {
   "cell_type": "code",
   "execution_count": 26,
   "metadata": {},
   "outputs": [],
   "source": [
    "library(glmnet)\n",
    "library(survival)\n",
    "library(survminer)"
   ]
  },
  {
   "cell_type": "code",
   "execution_count": 22,
   "metadata": {},
   "outputs": [],
   "source": [
    "# we get the data that have been prepared\n",
    "data=read.csv('mergedStandardizedTrainingSet.csv')\n",
    "row.names(data)=data[,1]\n",
    "data=data[,-1]"
   ]
  },
  {
   "cell_type": "code",
   "execution_count": 61,
   "metadata": {},
   "outputs": [],
   "source": [
    "# We use a cross validation, measuring the concordance \n",
    "fit = cv.glmnet((as.matrix(data[,c(-64,-65)])), Surv(data$SurvivalTime, data$Event),family = \"cox\", nfolds = 10, type.measure = \"C\")"
   ]
  },
  {
   "cell_type": "code",
   "execution_count": 62,
   "metadata": {},
   "outputs": [
    {
     "data": {
      "image/png": "[encoded data removed]",
      "text/plain": [
       "plot without title"
      ]
     },
     "metadata": {
      "image/png": {
       "height": 420,
       "width": 420
      },
      "text/plain": {
       "height": 420,
       "width": 420
      }
     },
     "output_type": "display_data"
    }
   ],
   "source": [
    "# We plot the result\n",
    "plot(fit)"
   ]
  },
  {
   "cell_type": "code",
   "execution_count": 63,
   "metadata": {},
   "outputs": [
    {
     "data": {
      "text/plain": [
       "63 x 1 sparse Matrix of class \"dgCMatrix\"\n",
       "                                                       s0\n",
       "Mstage                                        0.018373608\n",
       "Nstage                                        0.081246989\n",
       "SourceDataset                                -0.304412673\n",
       "Tstage                                        .          \n",
       "age                                           0.070813158\n",
       "original_shape_Compactness1                   .          \n",
       "original_shape_Compactness2                   .          \n",
       "original_shape_Maximum3DDiameter              .          \n",
       "original_shape_SphericalDisproportion         .          \n",
       "original_shape_Sphericity                     .          \n",
       "original_shape_SurfaceArea                    .          \n",
       "original_shape_SurfaceVolumeRatio             .          \n",
       "original_shape_VoxelVolume                    0.073674938\n",
       "original_firstorder_Energy                    .          \n",
       "original_firstorder_Entropy                   .          \n",
       "original_firstorder_Kurtosis                  .          \n",
       "original_firstorder_Maximum                   0.002465891\n",
       "original_firstorder_Mean                      0.101426905\n",
       "original_firstorder_MeanAbsoluteDeviation     .          \n",
       "original_firstorder_Median                    .          \n",
       "original_firstorder_Minimum                   .          \n",
       "original_firstorder_Range                     .          \n",
       "original_firstorder_RootMeanSquared           .          \n",
       "original_firstorder_Skewness                  .          \n",
       "original_firstorder_StandardDeviation         .          \n",
       "original_firstorder_Uniformity                .          \n",
       "original_firstorder_Variance                  .          \n",
       "original_glcm_Autocorrelation                 .          \n",
       "original_glcm_ClusterProminence               0.095704865\n",
       "original_glcm_ClusterShade                    .          \n",
       "original_glcm_ClusterTendency                 .          \n",
       "original_glcm_Contrast                        .          \n",
       "original_glcm_Correlation                     .          \n",
       "original_glcm_DifferenceEntropy               .          \n",
       "original_glcm_DifferenceAverage               .          \n",
       "original_glcm_JointEnergy                     .          \n",
       "original_glcm_JointEntropy                    .          \n",
       "original_glcm_Id                              .          \n",
       "original_glcm_Idm                             0.017361244\n",
       "original_glcm_Imc1                            .          \n",
       "original_glcm_Imc2                            .          \n",
       "original_glcm_Idmn                            .          \n",
       "original_glcm_Idn                             0.011158837\n",
       "original_glcm_InverseVariance                 .          \n",
       "original_glcm_MaximumProbability              .          \n",
       "original_glcm_SumAverage                      .          \n",
       "original_glcm_SumEntropy                      .          \n",
       "original_glrlm_ShortRunEmphasis               .          \n",
       "original_glrlm_LongRunEmphasis                .          \n",
       "original_glrlm_GrayLevelNonUniformity         .          \n",
       "original_glrlm_RunLengthNonUniformity         .          \n",
       "original_glrlm_RunPercentage                 -0.122058974\n",
       "original_glrlm_LowGrayLevelRunEmphasis        .          \n",
       "original_glrlm_HighGrayLevelRunEmphasis       .          \n",
       "original_glrlm_ShortRunLowGrayLevelEmphasis   .          \n",
       "original_glrlm_ShortRunHighGrayLevelEmphasis  .          \n",
       "original_glrlm_LongRunLowGrayLevelEmphasis    .          \n",
       "original_glrlm_LongRunHighGrayLevelEmphasis   .          \n",
       "Adenocarcinoma                                .          \n",
       "Squamous                                      .          \n",
       "Nos                                           .          \n",
       "Nscl                                          .          \n",
       "Largecell                                     .          "
      ]
     },
     "metadata": {},
     "output_type": "display_data"
    }
   ],
   "source": [
    "# We use as lambda, the min + 1 standard error to now calculate the model\n",
    "modelB = glmnet((as.matrix(data[,c(-64,-65)])), Surv(data$SurvivalTime, data$Event),family = \"cox\",lambda=fit$lambda.1se)\n",
    "modelB$beta"
   ]
  },
  {
   "cell_type": "markdown",
   "metadata": {},
   "source": [
    "We will use those features in Python to train a Cox model"
   ]
  },
  {
   "cell_type": "code",
   "execution_count": null,
   "metadata": {},
   "outputs": [],
   "source": []
  }
 ],
 "metadata": {
  "kernelspec": {
   "display_name": "R",
   "language": "R",
   "name": "ir"
  },
  "language_info": {
   "codemirror_mode": "r",
   "file_extension": ".r",
   "mimetype": "text/x-r-source",
   "name": "R",
   "pygments_lexer": "r",
   "version": "3.6.1"
  }
 },
 "nbformat": 4,
 "nbformat_minor": 2
}
