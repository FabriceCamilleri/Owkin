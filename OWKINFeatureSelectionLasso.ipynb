{
 "cells": [
  {
   "cell_type": "markdown",
   "metadata": {},
   "source": [
    "In this notebook we will use lasso for feature selection on:\n",
    "- the original dataset with all features\n",
    "- the dataset with the all the features calculated with pyradiomics"
   ]
  },
  {
   "cell_type": "markdown",
   "metadata": {},
   "source": [
    "## Dataset with calcualted features"
   ]
  },
  {
   "cell_type": "code",
   "execution_count": 1,
   "metadata": {},
   "outputs": [
    {
     "name": "stderr",
     "output_type": "stream",
     "text": [
      "Warning message:\n",
      "\"package 'glmnet' was built under R version 3.6.2\"\n",
      "Loading required package: Matrix\n",
      "\n",
      "Loaded glmnet 3.0-2\n",
      "\n",
      "\n",
      "Warning message:\n",
      "\"package 'survival' was built under R version 3.6.2\"\n",
      "Warning message:\n",
      "\"package 'survminer' was built under R version 3.6.2\"\n",
      "Loading required package: ggplot2\n",
      "\n",
      "Loading required package: ggpubr\n",
      "\n",
      "Warning message:\n",
      "\"package 'ggpubr' was built under R version 3.6.2\"\n",
      "Loading required package: magrittr\n",
      "\n"
     ]
    }
   ],
   "source": [
    "library(glmnet)\n",
    "library(\"survival\")\n",
    "library(\"survminer\")"
   ]
  },
  {
   "cell_type": "code",
   "execution_count": 129,
   "metadata": {},
   "outputs": [],
   "source": [
    "#we get the csv, and we don't keep the first column which is a dupe with the index\n",
    "trainingA=read.csv('C:/Users/ddalt/Desktop/DSTI/Data Challenge/OWKIN/fullTrainingCalculatedRadioAge.csv')[,-1]\n",
    "trainingA[,'Adenocarcinoma']=0\n",
    "#we transform the factors into numericals\n",
    "trainingA[trainingA$Histology=='adenocarcinoma','Adenocarcinoma']=1\n",
    "trainingA[,'LargeCell']=0\n",
    "trainingA[trainingA$Histology=='large cell','LargeCell']=1\n",
    "trainingA[,'Squamous']=0\n",
    "trainingA[trainingA$Histology=='squamous cell carcinoma','Squamous']=1\n",
    "trainingA[,'Source']=0\n",
    "trainingA[trainingA$SourceDataset=='l2','Source']=1\n",
    "#we get read of the factors and we set the rownames as PatientID\n",
    "rownames(trainingA)=trainingA$PatientID\n",
    "trainingA=trainingA[,c(-1,-2,-5)]\n",
    "# we scale all columns but PatientID, SurvivalTime and Event\n",
    "trainingA=cbind(scale(trainingA[,c(-91, -92)]), trainingA[,c('SurvivalTime', 'Event')])\n",
    "#we get rid of the row with NA values\n",
    "trainingA=trainingA[!(is.na(trainingA$Mean)),]"
   ]
  },
  {
   "cell_type": "code",
   "execution_count": 4,
   "metadata": {},
   "outputs": [
    {
     "data": {
      "text/html": [
       "<ol class=list-inline>\n",
       "\t<li>295</li>\n",
       "\t<li>96</li>\n",
       "</ol>\n"
      ],
      "text/latex": [
       "\\begin{enumerate*}\n",
       "\\item 295\n",
       "\\item 96\n",
       "\\end{enumerate*}\n"
      ],
      "text/markdown": [
       "1. 295\n",
       "2. 96\n",
       "\n",
       "\n"
      ],
      "text/plain": [
       "[1] 295  96"
      ]
     },
     "metadata": {},
     "output_type": "display_data"
    }
   ],
   "source": [
    "dim(trainingA)"
   ]
  },
  {
   "cell_type": "code",
   "execution_count": 93,
   "metadata": {},
   "outputs": [],
   "source": []
  },
  {
   "cell_type": "code",
   "execution_count": 32,
   "metadata": {},
   "outputs": [],
   "source": [
    "fit = cv.glmnet((as.matrix(trainingA[,c(-95,-96)])), Surv(trainingA$SurvivalTime, trainingA$Event),family = \"cox\", nfolds = 5, relax=TRUE)"
   ]
  },
  {
   "cell_type": "code",
   "execution_count": 33,
   "metadata": {
    "scrolled": true
   },
   "outputs": [
    {
     "data": {
      "image/png": "[encoded data removed]",
      "text/plain": [
       "plot without title"
      ]
     },
     "metadata": {
      "image/png": {
       "height": 420,
       "width": 420
      },
      "text/plain": {
       "height": 420,
       "width": 420
      }
     },
     "output_type": "display_data"
    }
   ],
   "source": [
    "plot(fit)"
   ]
  },
  {
   "cell_type": "code",
   "execution_count": 23,
   "metadata": {},
   "outputs": [
    {
     "data": {
      "text/html": [
       "<ol class=list-inline>\n",
       "\t<li>'statlist'</li>\n",
       "\t<li>'gamma'</li>\n",
       "\t<li>'lambda.min'</li>\n",
       "\t<li>'lambda.1se'</li>\n",
       "\t<li>'gamma.min'</li>\n",
       "\t<li>'gamma.1se'</li>\n",
       "\t<li>'nzero.min'</li>\n",
       "\t<li>'nzero.1se'</li>\n",
       "</ol>\n"
      ],
      "text/latex": [
       "\\begin{enumerate*}\n",
       "\\item 'statlist'\n",
       "\\item 'gamma'\n",
       "\\item 'lambda.min'\n",
       "\\item 'lambda.1se'\n",
       "\\item 'gamma.min'\n",
       "\\item 'gamma.1se'\n",
       "\\item 'nzero.min'\n",
       "\\item 'nzero.1se'\n",
       "\\end{enumerate*}\n"
      ],
      "text/markdown": [
       "1. 'statlist'\n",
       "2. 'gamma'\n",
       "3. 'lambda.min'\n",
       "4. 'lambda.1se'\n",
       "5. 'gamma.min'\n",
       "6. 'gamma.1se'\n",
       "7. 'nzero.min'\n",
       "8. 'nzero.1se'\n",
       "\n",
       "\n"
      ],
      "text/plain": [
       "[1] \"statlist\"   \"gamma\"      \"lambda.min\" \"lambda.1se\" \"gamma.min\" \n",
       "[6] \"gamma.1se\"  \"nzero.min\"  \"nzero.1se\" "
      ]
     },
     "metadata": {},
     "output_type": "display_data"
    }
   ],
   "source": [
    "names(fit$relaxed)"
   ]
  },
  {
   "cell_type": "code",
   "execution_count": 25,
   "metadata": {},
   "outputs": [
    {
     "data": {
      "text/html": [
       "0.5"
      ],
      "text/latex": [
       "0.5"
      ],
      "text/markdown": [
       "0.5"
      ],
      "text/plain": [
       "[1] 0.5"
      ]
     },
     "metadata": {},
     "output_type": "display_data"
    },
    {
     "data": {
      "text/html": [
       "0.241986617545689"
      ],
      "text/latex": [
       "0.241986617545689"
      ],
      "text/markdown": [
       "0.241986617545689"
      ],
      "text/plain": [
       "[1] 0.2419866"
      ]
     },
     "metadata": {},
     "output_type": "display_data"
    }
   ],
   "source": [
    "fit$relaxed$gamma.1se\n",
    "fit$relaxed$lambda.1se"
   ]
  },
  {
   "cell_type": "code",
   "execution_count": 34,
   "metadata": {},
   "outputs": [],
   "source": [
    "model = glmnet((as.matrix(trainingA[,c(-95,-96)])), Surv(trainingA$SurvivalTime, trainingA$Event),family = \"cox\", lambda=fit$relaxed$lambda.1se, gamma=fit$relaxed$gamma.1se)\n"
   ]
  },
  {
   "cell_type": "code",
   "execution_count": 35,
   "metadata": {},
   "outputs": [
    {
     "data": {
      "text/plain": [
       "94 x 1 sparse Matrix of class \"dgCMatrix\"\n",
       "                                            s0\n",
       "Mstage                            .           \n",
       "Nstage                            .           \n",
       "Tstage                            .           \n",
       "age                               .           \n",
       "X10Percentile                     .           \n",
       "X90Percentile                     .           \n",
       "Energy                            .           \n",
       "Entropy                           .           \n",
       "InterquartileRange                .           \n",
       "Kurtosis                          .           \n",
       "Maximum                           .           \n",
       "MeanAbsoluteDeviation             .           \n",
       "Mean                              .           \n",
       "Median                            .           \n",
       "Minimum                           .           \n",
       "Range                             .           \n",
       "RobustMeanAbsoluteDeviation       .           \n",
       "RootMeanSquared                   .           \n",
       "Skewness                          .           \n",
       "TotalEnergy                       .           \n",
       "Uniformity                        .           \n",
       "Variance                          .           \n",
       "Elongation                        .           \n",
       "Flatness                          .           \n",
       "LeastAxisLength                   .           \n",
       "MajorAxisLength                   .           \n",
       "Maximum2DDiameterColumn           .           \n",
       "Maximum2DDiameterRow              .           \n",
       "Maximum2DDiameterSlice            .           \n",
       "Maximum3DDiameter                 .           \n",
       "MeshVolume                        .           \n",
       "MinorAxisLength                   .           \n",
       "Sphericity                        .           \n",
       "SurfaceArea                       .           \n",
       "SurfaceVolumeRatio                .           \n",
       "VoxelVolume                       .           \n",
       "Autocorrelation                   .           \n",
       "ClusterProminence                 .           \n",
       "ClusterShade                      .           \n",
       "ClusterTendency                   .           \n",
       "Contrast                          .           \n",
       "Correlation                       .           \n",
       "DifferenceAverage                 .           \n",
       "DifferenceEntropy                 .           \n",
       "DifferenceVariance                .           \n",
       "Id                                0.0052969837\n",
       "Idm                               0.0006755067\n",
       "Idmn                              .           \n",
       "Idn                               0.0040962131\n",
       "Imc1                              .           \n",
       "Imc2                              .           \n",
       "InverseVariance                   .           \n",
       "JointAverage                      .           \n",
       "JointEnergy                       .           \n",
       "JointEntropy                      .           \n",
       "MCC                               .           \n",
       "MaximumProbability                .           \n",
       "SumAverage                        .           \n",
       "SumEntropy                        .           \n",
       "SumSquares                        .           \n",
       "GrayLevelNonUniformity            .           \n",
       "GrayLevelNonUniformityNormalized  .           \n",
       "GrayLevelVariance                 .           \n",
       "HighGrayLevelRunEmphasis          .           \n",
       "LongRunEmphasis                   .           \n",
       "LongRunHighGrayLevelEmphasis      .           \n",
       "LongRunLowGrayLevelEmphasis       .           \n",
       "LowGrayLevelRunEmphasis           .           \n",
       "RunEntropy                        .           \n",
       "RunLengthNonUniformity            .           \n",
       "RunLengthNonUniformityNormalized  .           \n",
       "RunPercentage                     .           \n",
       "RunVariance                       .           \n",
       "ShortRunEmphasis                  .           \n",
       "ShortRunHighGrayLevelEmphasis     .           \n",
       "ShortRunLowGrayLevelEmphasis      .           \n",
       "HighGrayLevelZoneEmphasis         .           \n",
       "LargeAreaEmphasis                 .           \n",
       "LargeAreaHighGrayLevelEmphasis    .           \n",
       "LargeAreaLowGrayLevelEmphasis     .           \n",
       "LowGrayLevelZoneEmphasis          .           \n",
       "SizeZoneNonUniformity             .           \n",
       "SizeZoneNonUniformityNormalized   .           \n",
       "SmallAreaEmphasis                 .           \n",
       "SmallAreaHighGrayLevelEmphasis    .           \n",
       "SmallAreaLowGrayLevelEmphasis     .           \n",
       "ZoneEntropy                       .           \n",
       "ZonePercentage                    .           \n",
       "ZoneVariance                      .           \n",
       "Cluster                           .           \n",
       "Adenocarcinoma                    .           \n",
       "LargeCell                         .           \n",
       "Squamous                          .           \n",
       "Source                           -0.0408340153"
      ]
     },
     "metadata": {},
     "output_type": "display_data"
    }
   ],
   "source": [
    "model$beta"
   ]
  },
  {
   "cell_type": "markdown",
   "metadata": {},
   "source": [
    "## Original dataset"
   ]
  },
  {
   "cell_type": "code",
   "execution_count": 46,
   "metadata": {},
   "outputs": [
    {
     "data": {
      "text/html": [
       "<table>\n",
       "<caption>A data.frame: 6 × 63</caption>\n",
       "<thead>\n",
       "\t<tr><th></th><th scope=col>Mstage</th><th scope=col>Nstage</th><th scope=col>Tstage</th><th scope=col>age</th><th scope=col>original_shape_Compactness1</th><th scope=col>original_shape_Compactness2</th><th scope=col>original_shape_Maximum3DDiameter</th><th scope=col>original_shape_SphericalDisproportion</th><th scope=col>original_shape_Sphericity</th><th scope=col>original_shape_SurfaceArea</th><th scope=col>...</th><th scope=col>original_glrlm_ShortRunLowGrayLevelEmphasis</th><th scope=col>original_glrlm_ShortRunHighGrayLevelEmphasis</th><th scope=col>original_glrlm_LongRunLowGrayLevelEmphasis</th><th scope=col>original_glrlm_LongRunHighGrayLevelEmphasis</th><th scope=col>Adenocarcinoma</th><th scope=col>LargeCell</th><th scope=col>Squamous</th><th scope=col>Source</th><th scope=col>SurvivalTime</th><th scope=col>Event</th></tr>\n",
       "\t<tr><th></th><th scope=col>&lt;dbl&gt;</th><th scope=col>&lt;dbl&gt;</th><th scope=col>&lt;dbl&gt;</th><th scope=col>&lt;dbl&gt;</th><th scope=col>&lt;dbl&gt;</th><th scope=col>&lt;dbl&gt;</th><th scope=col>&lt;dbl&gt;</th><th scope=col>&lt;dbl&gt;</th><th scope=col>&lt;dbl&gt;</th><th scope=col>&lt;dbl&gt;</th><th scope=col>...</th><th scope=col>&lt;dbl&gt;</th><th scope=col>&lt;dbl&gt;</th><th scope=col>&lt;dbl&gt;</th><th scope=col>&lt;dbl&gt;</th><th scope=col>&lt;dbl&gt;</th><th scope=col>&lt;dbl&gt;</th><th scope=col>&lt;dbl&gt;</th><th scope=col>&lt;dbl&gt;</th><th scope=col>&lt;int&gt;</th><th scope=col>&lt;int&gt;</th></tr>\n",
       "</thead>\n",
       "<tbody>\n",
       "\t<tr><th scope=row>1</th><td>-0.1273026</td><td>-0.8301892</td><td>-0.0963663</td><td>-0.2885868</td><td> 0.2795003</td><td> 0.1710857192</td><td>-0.4270877744</td><td>-0.4009040</td><td> 0.3119030</td><td>-0.438976999</td><td>...</td><td>-0.15712933</td><td> 0.03706072</td><td>-0.2197054</td><td>-0.61938598</td><td> 1.4013313</td><td>-0.5043603</td><td>-0.5917602</td><td> 1.4013313</td><td>1378</td><td>0</td></tr>\n",
       "\t<tr><th scope=row>2</th><td>-0.1273026</td><td> 0.8933870</td><td> 1.7687880</td><td>-0.4375082</td><td>-0.4929972</td><td>-0.5862102807</td><td> 0.3368184447</td><td> 0.2427834</td><td>-0.4511557</td><td> 0.009100365</td><td>...</td><td>-0.35833565</td><td> 0.16439132</td><td>-0.2521198</td><td>-0.15307099</td><td>-0.7112284</td><td> 1.9761004</td><td>-0.5917602</td><td>-0.7112284</td><td> 379</td><td>1</td></tr>\n",
       "\t<tr><th scope=row>3</th><td>-0.1273026</td><td> 1.7551752</td><td>-0.0963663</td><td>-0.2838723</td><td> 0.2043471</td><td> 0.0911317330</td><td> 0.1885350462</td><td>-0.3466214</td><td> 0.2397123</td><td> 0.026272212</td><td>...</td><td>-0.42487140</td><td>-0.80432535</td><td>-0.2026941</td><td> 0.07411544</td><td>-0.7112284</td><td>-0.5043603</td><td> 1.6842407</td><td>-0.7112284</td><td> 573</td><td>1</td></tr>\n",
       "\t<tr><th scope=row>4</th><td>-0.1273026</td><td> 0.8933870</td><td> 0.8362108</td><td>-0.9815022</td><td> 0.1179161</td><td> 0.0008528433</td><td>-0.4760683478</td><td>-0.2822511</td><td> 0.1561782</td><td>-0.548760797</td><td>...</td><td>-0.26497843</td><td>-0.26178456</td><td>-0.2414001</td><td>-0.56751251</td><td>-0.7112284</td><td>-0.5043603</td><td>-0.5917602</td><td>-0.7112284</td><td> 959</td><td>0</td></tr>\n",
       "\t<tr><th scope=row>5</th><td>-0.1273026</td><td> 1.7551752</td><td> 1.7687880</td><td> 0.2386982</td><td>-0.3842336</td><td>-0.4882371215</td><td>-0.2797143223</td><td> 0.1391045</td><td>-0.3407194</td><td>-0.451265681</td><td>...</td><td> 0.04481628</td><td> 1.37486674</td><td> 0.5330143</td><td> 0.13104618</td><td>-0.7112284</td><td>-0.5043603</td><td> 1.6842407</td><td>-0.7112284</td><td>2119</td><td>0</td></tr>\n",
       "\t<tr><th scope=row>6</th><td>-0.1273026</td><td> 0.8933870</td><td>-0.0963663</td><td>-0.3906769</td><td> 0.7891273</td><td> 0.7489783379</td><td> 0.0004058122</td><td>-0.7325747</td><td> 0.7912429</td><td>-0.161160433</td><td>...</td><td>-0.47561131</td><td>-0.45480730</td><td>-0.1722022</td><td> 0.88662900</td><td>-0.7112284</td><td>-0.5043603</td><td> 1.6842407</td><td>-0.7112284</td><td> 706</td><td>1</td></tr>\n",
       "</tbody>\n",
       "</table>\n"
      ],
      "text/latex": [
       "A data.frame: 6 × 63\n",
       "\\begin{tabular}{r|lllllllllllllllllllll}\n",
       "  & Mstage & Nstage & Tstage & age & original\\_shape\\_Compactness1 & original\\_shape\\_Compactness2 & original\\_shape\\_Maximum3DDiameter & original\\_shape\\_SphericalDisproportion & original\\_shape\\_Sphericity & original\\_shape\\_SurfaceArea & ... & original\\_glrlm\\_ShortRunLowGrayLevelEmphasis & original\\_glrlm\\_ShortRunHighGrayLevelEmphasis & original\\_glrlm\\_LongRunLowGrayLevelEmphasis & original\\_glrlm\\_LongRunHighGrayLevelEmphasis & Adenocarcinoma & LargeCell & Squamous & Source & SurvivalTime & Event\\\\\n",
       "  & <dbl> & <dbl> & <dbl> & <dbl> & <dbl> & <dbl> & <dbl> & <dbl> & <dbl> & <dbl> & ... & <dbl> & <dbl> & <dbl> & <dbl> & <dbl> & <dbl> & <dbl> & <dbl> & <int> & <int>\\\\\n",
       "\\hline\n",
       "\t1 & -0.1273026 & -0.8301892 & -0.0963663 & -0.2885868 &  0.2795003 &  0.1710857192 & -0.4270877744 & -0.4009040 &  0.3119030 & -0.438976999 & ... & -0.15712933 &  0.03706072 & -0.2197054 & -0.61938598 &  1.4013313 & -0.5043603 & -0.5917602 &  1.4013313 & 1378 & 0\\\\\n",
       "\t2 & -0.1273026 &  0.8933870 &  1.7687880 & -0.4375082 & -0.4929972 & -0.5862102807 &  0.3368184447 &  0.2427834 & -0.4511557 &  0.009100365 & ... & -0.35833565 &  0.16439132 & -0.2521198 & -0.15307099 & -0.7112284 &  1.9761004 & -0.5917602 & -0.7112284 &  379 & 1\\\\\n",
       "\t3 & -0.1273026 &  1.7551752 & -0.0963663 & -0.2838723 &  0.2043471 &  0.0911317330 &  0.1885350462 & -0.3466214 &  0.2397123 &  0.026272212 & ... & -0.42487140 & -0.80432535 & -0.2026941 &  0.07411544 & -0.7112284 & -0.5043603 &  1.6842407 & -0.7112284 &  573 & 1\\\\\n",
       "\t4 & -0.1273026 &  0.8933870 &  0.8362108 & -0.9815022 &  0.1179161 &  0.0008528433 & -0.4760683478 & -0.2822511 &  0.1561782 & -0.548760797 & ... & -0.26497843 & -0.26178456 & -0.2414001 & -0.56751251 & -0.7112284 & -0.5043603 & -0.5917602 & -0.7112284 &  959 & 0\\\\\n",
       "\t5 & -0.1273026 &  1.7551752 &  1.7687880 &  0.2386982 & -0.3842336 & -0.4882371215 & -0.2797143223 &  0.1391045 & -0.3407194 & -0.451265681 & ... &  0.04481628 &  1.37486674 &  0.5330143 &  0.13104618 & -0.7112284 & -0.5043603 &  1.6842407 & -0.7112284 & 2119 & 0\\\\\n",
       "\t6 & -0.1273026 &  0.8933870 & -0.0963663 & -0.3906769 &  0.7891273 &  0.7489783379 &  0.0004058122 & -0.7325747 &  0.7912429 & -0.161160433 & ... & -0.47561131 & -0.45480730 & -0.1722022 &  0.88662900 & -0.7112284 & -0.5043603 &  1.6842407 & -0.7112284 &  706 & 1\\\\\n",
       "\\end{tabular}\n"
      ],
      "text/markdown": [
       "\n",
       "A data.frame: 6 × 63\n",
       "\n",
       "| <!--/--> | Mstage &lt;dbl&gt; | Nstage &lt;dbl&gt; | Tstage &lt;dbl&gt; | age &lt;dbl&gt; | original_shape_Compactness1 &lt;dbl&gt; | original_shape_Compactness2 &lt;dbl&gt; | original_shape_Maximum3DDiameter &lt;dbl&gt; | original_shape_SphericalDisproportion &lt;dbl&gt; | original_shape_Sphericity &lt;dbl&gt; | original_shape_SurfaceArea &lt;dbl&gt; | ... ... | original_glrlm_ShortRunLowGrayLevelEmphasis &lt;dbl&gt; | original_glrlm_ShortRunHighGrayLevelEmphasis &lt;dbl&gt; | original_glrlm_LongRunLowGrayLevelEmphasis &lt;dbl&gt; | original_glrlm_LongRunHighGrayLevelEmphasis &lt;dbl&gt; | Adenocarcinoma &lt;dbl&gt; | LargeCell &lt;dbl&gt; | Squamous &lt;dbl&gt; | Source &lt;dbl&gt; | SurvivalTime &lt;int&gt; | Event &lt;int&gt; |\n",
       "|---|---|---|---|---|---|---|---|---|---|---|---|---|---|---|---|---|---|---|---|---|---|\n",
       "| 1 | -0.1273026 | -0.8301892 | -0.0963663 | -0.2885868 |  0.2795003 |  0.1710857192 | -0.4270877744 | -0.4009040 |  0.3119030 | -0.438976999 | ... | -0.15712933 |  0.03706072 | -0.2197054 | -0.61938598 |  1.4013313 | -0.5043603 | -0.5917602 |  1.4013313 | 1378 | 0 |\n",
       "| 2 | -0.1273026 |  0.8933870 |  1.7687880 | -0.4375082 | -0.4929972 | -0.5862102807 |  0.3368184447 |  0.2427834 | -0.4511557 |  0.009100365 | ... | -0.35833565 |  0.16439132 | -0.2521198 | -0.15307099 | -0.7112284 |  1.9761004 | -0.5917602 | -0.7112284 |  379 | 1 |\n",
       "| 3 | -0.1273026 |  1.7551752 | -0.0963663 | -0.2838723 |  0.2043471 |  0.0911317330 |  0.1885350462 | -0.3466214 |  0.2397123 |  0.026272212 | ... | -0.42487140 | -0.80432535 | -0.2026941 |  0.07411544 | -0.7112284 | -0.5043603 |  1.6842407 | -0.7112284 |  573 | 1 |\n",
       "| 4 | -0.1273026 |  0.8933870 |  0.8362108 | -0.9815022 |  0.1179161 |  0.0008528433 | -0.4760683478 | -0.2822511 |  0.1561782 | -0.548760797 | ... | -0.26497843 | -0.26178456 | -0.2414001 | -0.56751251 | -0.7112284 | -0.5043603 | -0.5917602 | -0.7112284 |  959 | 0 |\n",
       "| 5 | -0.1273026 |  1.7551752 |  1.7687880 |  0.2386982 | -0.3842336 | -0.4882371215 | -0.2797143223 |  0.1391045 | -0.3407194 | -0.451265681 | ... |  0.04481628 |  1.37486674 |  0.5330143 |  0.13104618 | -0.7112284 | -0.5043603 |  1.6842407 | -0.7112284 | 2119 | 0 |\n",
       "| 6 | -0.1273026 |  0.8933870 | -0.0963663 | -0.3906769 |  0.7891273 |  0.7489783379 |  0.0004058122 | -0.7325747 |  0.7912429 | -0.161160433 | ... | -0.47561131 | -0.45480730 | -0.1722022 |  0.88662900 | -0.7112284 | -0.5043603 |  1.6842407 | -0.7112284 |  706 | 1 |\n",
       "\n"
      ],
      "text/plain": [
       "  Mstage     Nstage     Tstage     age        original_shape_Compactness1\n",
       "1 -0.1273026 -0.8301892 -0.0963663 -0.2885868  0.2795003                 \n",
       "2 -0.1273026  0.8933870  1.7687880 -0.4375082 -0.4929972                 \n",
       "3 -0.1273026  1.7551752 -0.0963663 -0.2838723  0.2043471                 \n",
       "4 -0.1273026  0.8933870  0.8362108 -0.9815022  0.1179161                 \n",
       "5 -0.1273026  1.7551752  1.7687880  0.2386982 -0.3842336                 \n",
       "6 -0.1273026  0.8933870 -0.0963663 -0.3906769  0.7891273                 \n",
       "  original_shape_Compactness2 original_shape_Maximum3DDiameter\n",
       "1  0.1710857192               -0.4270877744                   \n",
       "2 -0.5862102807                0.3368184447                   \n",
       "3  0.0911317330                0.1885350462                   \n",
       "4  0.0008528433               -0.4760683478                   \n",
       "5 -0.4882371215               -0.2797143223                   \n",
       "6  0.7489783379                0.0004058122                   \n",
       "  original_shape_SphericalDisproportion original_shape_Sphericity\n",
       "1 -0.4009040                             0.3119030               \n",
       "2  0.2427834                            -0.4511557               \n",
       "3 -0.3466214                             0.2397123               \n",
       "4 -0.2822511                             0.1561782               \n",
       "5  0.1391045                            -0.3407194               \n",
       "6 -0.7325747                             0.7912429               \n",
       "  original_shape_SurfaceArea ... original_glrlm_ShortRunLowGrayLevelEmphasis\n",
       "1 -0.438976999               ... -0.15712933                                \n",
       "2  0.009100365               ... -0.35833565                                \n",
       "3  0.026272212               ... -0.42487140                                \n",
       "4 -0.548760797               ... -0.26497843                                \n",
       "5 -0.451265681               ...  0.04481628                                \n",
       "6 -0.161160433               ... -0.47561131                                \n",
       "  original_glrlm_ShortRunHighGrayLevelEmphasis\n",
       "1  0.03706072                                 \n",
       "2  0.16439132                                 \n",
       "3 -0.80432535                                 \n",
       "4 -0.26178456                                 \n",
       "5  1.37486674                                 \n",
       "6 -0.45480730                                 \n",
       "  original_glrlm_LongRunLowGrayLevelEmphasis\n",
       "1 -0.2197054                                \n",
       "2 -0.2521198                                \n",
       "3 -0.2026941                                \n",
       "4 -0.2414001                                \n",
       "5  0.5330143                                \n",
       "6 -0.1722022                                \n",
       "  original_glrlm_LongRunHighGrayLevelEmphasis Adenocarcinoma LargeCell \n",
       "1 -0.61938598                                  1.4013313     -0.5043603\n",
       "2 -0.15307099                                 -0.7112284      1.9761004\n",
       "3  0.07411544                                 -0.7112284     -0.5043603\n",
       "4 -0.56751251                                 -0.7112284     -0.5043603\n",
       "5  0.13104618                                 -0.7112284     -0.5043603\n",
       "6  0.88662900                                 -0.7112284     -0.5043603\n",
       "  Squamous   Source     SurvivalTime Event\n",
       "1 -0.5917602  1.4013313 1378         0    \n",
       "2 -0.5917602 -0.7112284  379         1    \n",
       "3  1.6842407 -0.7112284  573         1    \n",
       "4 -0.5917602 -0.7112284  959         0    \n",
       "5  1.6842407 -0.7112284 2119         0    \n",
       "6  1.6842407 -0.7112284  706         1    "
      ]
     },
     "metadata": {},
     "output_type": "display_data"
    }
   ],
   "source": [
    "head(trainingB)"
   ]
  },
  {
   "cell_type": "code",
   "execution_count": 102,
   "metadata": {},
   "outputs": [],
   "source": [
    "trainingB=read.csv('C:/Users/ddalt/Desktop/DSTI/Data Challenge/OWKIN/fullTrainingSet.csv')\n",
    "#we transform the factors into numericals\n",
    "trainingB[,'Adenocarcinoma']=0\n",
    "trainingB[trainingB$Histology=='adenocarcinoma','Adenocarcinoma']=1\n",
    "trainingB[,'LargeCell']=0\n",
    "trainingB[trainingB$Histology=='large cell','LargeCell']=1\n",
    "trainingB[,'Squamous']=0\n",
    "trainingB[trainingB$Histology=='squamous cell carcinoma','Squamous']=1\n",
    "trainingB[,'Source']=0\n",
    "trainingB[trainingB$SourceDataset=='l2','Source']=1\n",
    "#we get read of the factors and we set the rownames as PatientID\n",
    "rownames(trainingB)=trainingB$PatientID\n",
    "trainingB=trainingB[,c(-1,-2,-5)]\n",
    "# we scale all columns SurvivalTime and Event\n",
    "trainingB=cbind(scale(trainingB[,c(-58, -59)]), trainingB[,c('SurvivalTime', 'Event')])\n",
    "#we set NA values to zero\n",
    "trainingB[(is.na(trainingB$age)),'age']=0"
   ]
  },
  {
   "cell_type": "code",
   "execution_count": 84,
   "metadata": {},
   "outputs": [],
   "source": [
    "fitB = cv.glmnet((as.matrix(trainingB[,c(-62,-63)])), Surv(trainingB$SurvivalTime, trainingB$Event),family = \"cox\", nfolds = 5, relax=TRUE)\n",
    "fitB\n",
    "plot(fitB)"
   ]
  },
  {
   "cell_type": "code",
   "execution_count": 105,
   "metadata": {},
   "outputs": [
    {
     "data": {
      "text/plain": [
       "61 x 1 sparse Matrix of class \"dgCMatrix\"\n",
       "                                                       s0\n",
       "Mstage                                        .          \n",
       "Nstage                                        .          \n",
       "Tstage                                        .          \n",
       "age                                           .          \n",
       "original_shape_Compactness1                   .          \n",
       "original_shape_Compactness2                   .          \n",
       "original_shape_Maximum3DDiameter              .          \n",
       "original_shape_SphericalDisproportion         .          \n",
       "original_shape_Sphericity                     .          \n",
       "original_shape_SurfaceArea                    .          \n",
       "original_shape_SurfaceVolumeRatio             .          \n",
       "original_shape_VoxelVolume                    .          \n",
       "original_firstorder_Energy                    .          \n",
       "original_firstorder_Entropy                   .          \n",
       "original_firstorder_Kurtosis                  .          \n",
       "original_firstorder_Maximum                   .          \n",
       "original_firstorder_Mean                      .          \n",
       "original_firstorder_MeanAbsoluteDeviation     .          \n",
       "original_firstorder_Median                    .          \n",
       "original_firstorder_Minimum                   .          \n",
       "original_firstorder_Range                     .          \n",
       "original_firstorder_RootMeanSquared           .          \n",
       "original_firstorder_Skewness                  .          \n",
       "original_firstorder_StandardDeviation         .          \n",
       "original_firstorder_Uniformity                .          \n",
       "original_firstorder_Variance                  .          \n",
       "original_glcm_Autocorrelation                 .          \n",
       "original_glcm_ClusterProminence               .          \n",
       "original_glcm_ClusterShade                    .          \n",
       "original_glcm_ClusterTendency                 .          \n",
       "original_glcm_Contrast                        .          \n",
       "original_glcm_Correlation                     .          \n",
       "original_glcm_DifferenceEntropy               .          \n",
       "original_glcm_DifferenceAverage               .          \n",
       "original_glcm_JointEnergy                     .          \n",
       "original_glcm_JointEntropy                    .          \n",
       "original_glcm_Id                              .          \n",
       "original_glcm_Idm                             .          \n",
       "original_glcm_Imc1                            .          \n",
       "original_glcm_Imc2                            .          \n",
       "original_glcm_Idmn                            .          \n",
       "original_glcm_Idn                             0.001591318\n",
       "original_glcm_InverseVariance                 .          \n",
       "original_glcm_MaximumProbability              .          \n",
       "original_glcm_SumAverage                      .          \n",
       "original_glcm_SumEntropy                      .          \n",
       "original_glrlm_ShortRunEmphasis               .          \n",
       "original_glrlm_LongRunEmphasis                .          \n",
       "original_glrlm_GrayLevelNonUniformity         .          \n",
       "original_glrlm_RunLengthNonUniformity         .          \n",
       "original_glrlm_RunPercentage                  .          \n",
       "original_glrlm_LowGrayLevelRunEmphasis        .          \n",
       "original_glrlm_HighGrayLevelRunEmphasis       .          \n",
       "original_glrlm_ShortRunLowGrayLevelEmphasis   .          \n",
       "original_glrlm_ShortRunHighGrayLevelEmphasis  .          \n",
       "original_glrlm_LongRunLowGrayLevelEmphasis    .          \n",
       "original_glrlm_LongRunHighGrayLevelEmphasis   .          \n",
       "Adenocarcinoma                                .          \n",
       "LargeCell                                     .          \n",
       "Squamous                                      .          \n",
       "Source                                       -0.046577012"
      ]
     },
     "metadata": {},
     "output_type": "display_data"
    }
   ],
   "source": [
    "modelB = glmnet((as.matrix(trainingB[,c(-62,-63)])), Surv(trainingB$SurvivalTime, trainingB$Event),family = \"cox\", lambda=fitB$relaxed$lambda.1se,  gamma=fitB$relaxed$gamma.1se)\n",
    "modelB$beta"
   ]
  },
  {
   "cell_type": "markdown",
   "metadata": {},
   "source": [
    "## Let's try now to combine all features"
   ]
  },
  {
   "cell_type": "code",
   "execution_count": 139,
   "metadata": {},
   "outputs": [],
   "source": [
    "trainingC=cbind(trainingA[,c(-95, -96)], trainingB[(row.names(trainingB) %in% row.names(trainingA)),c(-1,-2,-3,-4,-58,-59,-60, -61)])"
   ]
  },
  {
   "cell_type": "code",
   "execution_count": 142,
   "metadata": {},
   "outputs": [
    {
     "data": {
      "text/html": [
       "<table>\n",
       "<caption>A data.frame: 6 × 149</caption>\n",
       "<thead>\n",
       "\t<tr><th></th><th scope=col>Mstage</th><th scope=col>Nstage</th><th scope=col>Tstage</th><th scope=col>age</th><th scope=col>X10Percentile</th><th scope=col>X90Percentile</th><th scope=col>Energy</th><th scope=col>Entropy</th><th scope=col>InterquartileRange</th><th scope=col>Kurtosis</th><th scope=col>...</th><th scope=col>original_glrlm_RunLengthNonUniformity</th><th scope=col>original_glrlm_RunPercentage</th><th scope=col>original_glrlm_LowGrayLevelRunEmphasis</th><th scope=col>original_glrlm_HighGrayLevelRunEmphasis</th><th scope=col>original_glrlm_ShortRunLowGrayLevelEmphasis</th><th scope=col>original_glrlm_ShortRunHighGrayLevelEmphasis</th><th scope=col>original_glrlm_LongRunLowGrayLevelEmphasis</th><th scope=col>original_glrlm_LongRunHighGrayLevelEmphasis</th><th scope=col>SurvivalTime</th><th scope=col>Event</th></tr>\n",
       "\t<tr><th></th><th scope=col>&lt;dbl&gt;</th><th scope=col>&lt;dbl&gt;</th><th scope=col>&lt;dbl&gt;</th><th scope=col>&lt;dbl&gt;</th><th scope=col>&lt;dbl&gt;</th><th scope=col>&lt;dbl&gt;</th><th scope=col>&lt;dbl&gt;</th><th scope=col>&lt;dbl&gt;</th><th scope=col>&lt;dbl&gt;</th><th scope=col>&lt;dbl&gt;</th><th scope=col>...</th><th scope=col>&lt;dbl&gt;</th><th scope=col>&lt;dbl&gt;</th><th scope=col>&lt;dbl&gt;</th><th scope=col>&lt;dbl&gt;</th><th scope=col>&lt;dbl&gt;</th><th scope=col>&lt;dbl&gt;</th><th scope=col>&lt;dbl&gt;</th><th scope=col>&lt;dbl&gt;</th><th scope=col>&lt;int&gt;</th><th scope=col>&lt;int&gt;</th></tr>\n",
       "</thead>\n",
       "<tbody>\n",
       "\t<tr><th scope=row>202</th><td>-0.1273026</td><td>-0.8301892</td><td>-0.0963663</td><td>-0.2925525</td><td>-1.1805834</td><td> 0.14353104</td><td> 0.2568743</td><td> 1.0177006</td><td> 1.7461510</td><td>-0.49263174</td><td>...</td><td>-0.23147595</td><td> 0.86563476</td><td>-0.1709005</td><td>-0.26845960</td><td>-0.15712933</td><td> 0.03706072</td><td>-0.2197054</td><td>-0.61938598</td><td>1378</td><td>0</td></tr>\n",
       "\t<tr><th scope=row>371</th><td>-0.1273026</td><td> 0.8933870</td><td> 1.7687880</td><td>-0.4455398</td><td>-0.2770500</td><td> 0.17169310</td><td> 0.1037444</td><td> 0.2718879</td><td> 0.1629818</td><td>-0.37703123</td><td>...</td><td> 0.03817729</td><td>-0.03022133</td><td>-0.3329506</td><td> 0.10750816</td><td>-0.35833565</td><td> 0.16439132</td><td>-0.2521198</td><td>-0.15307099</td><td> 379</td><td>1</td></tr>\n",
       "\t<tr><th scope=row>246</th><td>-0.1273026</td><td> 1.7551752</td><td>-0.0963663</td><td>-0.2877094</td><td> 0.7770724</td><td>-0.10992750</td><td>-0.3487685</td><td>-0.9152788</td><td>-0.8892168</td><td>-0.08631380</td><td>...</td><td>-0.09547868</td><td>-0.89876962</td><td>-0.3780277</td><td>-0.47474769</td><td>-0.42487140</td><td>-0.80432535</td><td>-0.2026941</td><td> 0.07411544</td><td> 573</td><td>1</td></tr>\n",
       "\t<tr><th scope=row>240</th><td>-0.1273026</td><td> 0.8933870</td><td> 0.8362108</td><td>-1.0043859</td><td> 0.1251326</td><td>-0.05360338</td><td>-0.4209226</td><td> 0.1011916</td><td>-0.3679888</td><td>-0.30413948</td><td>...</td><td>-0.44662327</td><td> 0.41382578</td><td>-0.2579194</td><td>-0.39835220</td><td>-0.26497843</td><td>-0.26178456</td><td>-0.2414001</td><td>-0.56751251</td><td> 959</td><td>0</td></tr>\n",
       "\t<tr><th scope=row>284</th><td>-0.1273026</td><td> 1.7551752</td><td> 1.7687880</td><td> 0.2491283</td><td> 0.3106141</td><td> 0.36882752</td><td>-0.3861156</td><td>-0.2168322</td><td>-0.8015336</td><td>-0.01340705</td><td>...</td><td>-0.46152904</td><td>-0.25282586</td><td> 0.2169860</td><td> 1.25276457</td><td> 0.04481628</td><td> 1.37486674</td><td> 0.5330143</td><td> 0.13104618</td><td>2119</td><td>0</td></tr>\n",
       "\t<tr><th scope=row>348</th><td>-0.1273026</td><td> 0.8933870</td><td>-0.0963663</td><td>-0.3974299</td><td> 0.9423529</td><td>-0.03952235</td><td>-0.3869989</td><td>-1.3420059</td><td>-1.1376526</td><td> 0.10412575</td><td>...</td><td>-0.32023983</td><td>-1.45171499</td><td>-0.4179218</td><td> 0.03463561</td><td>-0.47561131</td><td>-0.45480730</td><td>-0.1722022</td><td> 0.88662900</td><td> 706</td><td>1</td></tr>\n",
       "</tbody>\n",
       "</table>\n"
      ],
      "text/latex": [
       "A data.frame: 6 × 149\n",
       "\\begin{tabular}{r|lllllllllllllllllllll}\n",
       "  & Mstage & Nstage & Tstage & age & X10Percentile & X90Percentile & Energy & Entropy & InterquartileRange & Kurtosis & ... & original\\_glrlm\\_RunLengthNonUniformity & original\\_glrlm\\_RunPercentage & original\\_glrlm\\_LowGrayLevelRunEmphasis & original\\_glrlm\\_HighGrayLevelRunEmphasis & original\\_glrlm\\_ShortRunLowGrayLevelEmphasis & original\\_glrlm\\_ShortRunHighGrayLevelEmphasis & original\\_glrlm\\_LongRunLowGrayLevelEmphasis & original\\_glrlm\\_LongRunHighGrayLevelEmphasis & SurvivalTime & Event\\\\\n",
       "  & <dbl> & <dbl> & <dbl> & <dbl> & <dbl> & <dbl> & <dbl> & <dbl> & <dbl> & <dbl> & ... & <dbl> & <dbl> & <dbl> & <dbl> & <dbl> & <dbl> & <dbl> & <dbl> & <int> & <int>\\\\\n",
       "\\hline\n",
       "\t202 & -0.1273026 & -0.8301892 & -0.0963663 & -0.2925525 & -1.1805834 &  0.14353104 &  0.2568743 &  1.0177006 &  1.7461510 & -0.49263174 & ... & -0.23147595 &  0.86563476 & -0.1709005 & -0.26845960 & -0.15712933 &  0.03706072 & -0.2197054 & -0.61938598 & 1378 & 0\\\\\n",
       "\t371 & -0.1273026 &  0.8933870 &  1.7687880 & -0.4455398 & -0.2770500 &  0.17169310 &  0.1037444 &  0.2718879 &  0.1629818 & -0.37703123 & ... &  0.03817729 & -0.03022133 & -0.3329506 &  0.10750816 & -0.35833565 &  0.16439132 & -0.2521198 & -0.15307099 &  379 & 1\\\\\n",
       "\t246 & -0.1273026 &  1.7551752 & -0.0963663 & -0.2877094 &  0.7770724 & -0.10992750 & -0.3487685 & -0.9152788 & -0.8892168 & -0.08631380 & ... & -0.09547868 & -0.89876962 & -0.3780277 & -0.47474769 & -0.42487140 & -0.80432535 & -0.2026941 &  0.07411544 &  573 & 1\\\\\n",
       "\t240 & -0.1273026 &  0.8933870 &  0.8362108 & -1.0043859 &  0.1251326 & -0.05360338 & -0.4209226 &  0.1011916 & -0.3679888 & -0.30413948 & ... & -0.44662327 &  0.41382578 & -0.2579194 & -0.39835220 & -0.26497843 & -0.26178456 & -0.2414001 & -0.56751251 &  959 & 0\\\\\n",
       "\t284 & -0.1273026 &  1.7551752 &  1.7687880 &  0.2491283 &  0.3106141 &  0.36882752 & -0.3861156 & -0.2168322 & -0.8015336 & -0.01340705 & ... & -0.46152904 & -0.25282586 &  0.2169860 &  1.25276457 &  0.04481628 &  1.37486674 &  0.5330143 &  0.13104618 & 2119 & 0\\\\\n",
       "\t348 & -0.1273026 &  0.8933870 & -0.0963663 & -0.3974299 &  0.9423529 & -0.03952235 & -0.3869989 & -1.3420059 & -1.1376526 &  0.10412575 & ... & -0.32023983 & -1.45171499 & -0.4179218 &  0.03463561 & -0.47561131 & -0.45480730 & -0.1722022 &  0.88662900 &  706 & 1\\\\\n",
       "\\end{tabular}\n"
      ],
      "text/markdown": [
       "\n",
       "A data.frame: 6 × 149\n",
       "\n",
       "| <!--/--> | Mstage &lt;dbl&gt; | Nstage &lt;dbl&gt; | Tstage &lt;dbl&gt; | age &lt;dbl&gt; | X10Percentile &lt;dbl&gt; | X90Percentile &lt;dbl&gt; | Energy &lt;dbl&gt; | Entropy &lt;dbl&gt; | InterquartileRange &lt;dbl&gt; | Kurtosis &lt;dbl&gt; | ... ... | original_glrlm_RunLengthNonUniformity &lt;dbl&gt; | original_glrlm_RunPercentage &lt;dbl&gt; | original_glrlm_LowGrayLevelRunEmphasis &lt;dbl&gt; | original_glrlm_HighGrayLevelRunEmphasis &lt;dbl&gt; | original_glrlm_ShortRunLowGrayLevelEmphasis &lt;dbl&gt; | original_glrlm_ShortRunHighGrayLevelEmphasis &lt;dbl&gt; | original_glrlm_LongRunLowGrayLevelEmphasis &lt;dbl&gt; | original_glrlm_LongRunHighGrayLevelEmphasis &lt;dbl&gt; | SurvivalTime &lt;int&gt; | Event &lt;int&gt; |\n",
       "|---|---|---|---|---|---|---|---|---|---|---|---|---|---|---|---|---|---|---|---|---|---|\n",
       "| 202 | -0.1273026 | -0.8301892 | -0.0963663 | -0.2925525 | -1.1805834 |  0.14353104 |  0.2568743 |  1.0177006 |  1.7461510 | -0.49263174 | ... | -0.23147595 |  0.86563476 | -0.1709005 | -0.26845960 | -0.15712933 |  0.03706072 | -0.2197054 | -0.61938598 | 1378 | 0 |\n",
       "| 371 | -0.1273026 |  0.8933870 |  1.7687880 | -0.4455398 | -0.2770500 |  0.17169310 |  0.1037444 |  0.2718879 |  0.1629818 | -0.37703123 | ... |  0.03817729 | -0.03022133 | -0.3329506 |  0.10750816 | -0.35833565 |  0.16439132 | -0.2521198 | -0.15307099 |  379 | 1 |\n",
       "| 246 | -0.1273026 |  1.7551752 | -0.0963663 | -0.2877094 |  0.7770724 | -0.10992750 | -0.3487685 | -0.9152788 | -0.8892168 | -0.08631380 | ... | -0.09547868 | -0.89876962 | -0.3780277 | -0.47474769 | -0.42487140 | -0.80432535 | -0.2026941 |  0.07411544 |  573 | 1 |\n",
       "| 240 | -0.1273026 |  0.8933870 |  0.8362108 | -1.0043859 |  0.1251326 | -0.05360338 | -0.4209226 |  0.1011916 | -0.3679888 | -0.30413948 | ... | -0.44662327 |  0.41382578 | -0.2579194 | -0.39835220 | -0.26497843 | -0.26178456 | -0.2414001 | -0.56751251 |  959 | 0 |\n",
       "| 284 | -0.1273026 |  1.7551752 |  1.7687880 |  0.2491283 |  0.3106141 |  0.36882752 | -0.3861156 | -0.2168322 | -0.8015336 | -0.01340705 | ... | -0.46152904 | -0.25282586 |  0.2169860 |  1.25276457 |  0.04481628 |  1.37486674 |  0.5330143 |  0.13104618 | 2119 | 0 |\n",
       "| 348 | -0.1273026 |  0.8933870 | -0.0963663 | -0.3974299 |  0.9423529 | -0.03952235 | -0.3869989 | -1.3420059 | -1.1376526 |  0.10412575 | ... | -0.32023983 | -1.45171499 | -0.4179218 |  0.03463561 | -0.47561131 | -0.45480730 | -0.1722022 |  0.88662900 |  706 | 1 |\n",
       "\n"
      ],
      "text/plain": [
       "    Mstage     Nstage     Tstage     age        X10Percentile X90Percentile\n",
       "202 -0.1273026 -0.8301892 -0.0963663 -0.2925525 -1.1805834     0.14353104  \n",
       "371 -0.1273026  0.8933870  1.7687880 -0.4455398 -0.2770500     0.17169310  \n",
       "246 -0.1273026  1.7551752 -0.0963663 -0.2877094  0.7770724    -0.10992750  \n",
       "240 -0.1273026  0.8933870  0.8362108 -1.0043859  0.1251326    -0.05360338  \n",
       "284 -0.1273026  1.7551752  1.7687880  0.2491283  0.3106141     0.36882752  \n",
       "348 -0.1273026  0.8933870 -0.0963663 -0.3974299  0.9423529    -0.03952235  \n",
       "    Energy     Entropy    InterquartileRange Kurtosis    ...\n",
       "202  0.2568743  1.0177006  1.7461510         -0.49263174 ...\n",
       "371  0.1037444  0.2718879  0.1629818         -0.37703123 ...\n",
       "246 -0.3487685 -0.9152788 -0.8892168         -0.08631380 ...\n",
       "240 -0.4209226  0.1011916 -0.3679888         -0.30413948 ...\n",
       "284 -0.3861156 -0.2168322 -0.8015336         -0.01340705 ...\n",
       "348 -0.3869989 -1.3420059 -1.1376526          0.10412575 ...\n",
       "    original_glrlm_RunLengthNonUniformity original_glrlm_RunPercentage\n",
       "202 -0.23147595                            0.86563476                 \n",
       "371  0.03817729                           -0.03022133                 \n",
       "246 -0.09547868                           -0.89876962                 \n",
       "240 -0.44662327                            0.41382578                 \n",
       "284 -0.46152904                           -0.25282586                 \n",
       "348 -0.32023983                           -1.45171499                 \n",
       "    original_glrlm_LowGrayLevelRunEmphasis\n",
       "202 -0.1709005                            \n",
       "371 -0.3329506                            \n",
       "246 -0.3780277                            \n",
       "240 -0.2579194                            \n",
       "284  0.2169860                            \n",
       "348 -0.4179218                            \n",
       "    original_glrlm_HighGrayLevelRunEmphasis\n",
       "202 -0.26845960                            \n",
       "371  0.10750816                            \n",
       "246 -0.47474769                            \n",
       "240 -0.39835220                            \n",
       "284  1.25276457                            \n",
       "348  0.03463561                            \n",
       "    original_glrlm_ShortRunLowGrayLevelEmphasis\n",
       "202 -0.15712933                                \n",
       "371 -0.35833565                                \n",
       "246 -0.42487140                                \n",
       "240 -0.26497843                                \n",
       "284  0.04481628                                \n",
       "348 -0.47561131                                \n",
       "    original_glrlm_ShortRunHighGrayLevelEmphasis\n",
       "202  0.03706072                                 \n",
       "371  0.16439132                                 \n",
       "246 -0.80432535                                 \n",
       "240 -0.26178456                                 \n",
       "284  1.37486674                                 \n",
       "348 -0.45480730                                 \n",
       "    original_glrlm_LongRunLowGrayLevelEmphasis\n",
       "202 -0.2197054                                \n",
       "371 -0.2521198                                \n",
       "246 -0.2026941                                \n",
       "240 -0.2414001                                \n",
       "284  0.5330143                                \n",
       "348 -0.1722022                                \n",
       "    original_glrlm_LongRunHighGrayLevelEmphasis SurvivalTime Event\n",
       "202 -0.61938598                                 1378         0    \n",
       "371 -0.15307099                                  379         1    \n",
       "246  0.07411544                                  573         1    \n",
       "240 -0.56751251                                  959         0    \n",
       "284  0.13104618                                 2119         0    \n",
       "348  0.88662900                                  706         1    "
      ]
     },
     "metadata": {},
     "output_type": "display_data"
    }
   ],
   "source": [
    "head(trainingC)"
   ]
  },
  {
   "cell_type": "code",
   "execution_count": 147,
   "metadata": {},
   "outputs": [
    {
     "name": "stderr",
     "output_type": "stream",
     "text": [
      "Warning message:\n",
      "\"from glmnet Fortran code (error code -1); Convergence for 1th lambda value not reached after maxit=100000 iterations; solutions for larger lambdas returned\"\n",
      "Warning message in getcoef(fit, nvars, nx, vnames):\n",
      "\"an empty model has been returned; probably a convergence issue\"\n",
      "Warning message:\n",
      "\"from glmnet Fortran code (error code -1); Convergence for 1th lambda value not reached after maxit=100000 iterations; solutions for larger lambdas returned\"\n",
      "Warning message in getcoef(fit, nvars, nx, vnames):\n",
      "\"an empty model has been returned; probably a convergence issue\"\n",
      "Warning message:\n",
      "\"from glmnet Fortran code (error code -1); Convergence for 1th lambda value not reached after maxit=100000 iterations; solutions for larger lambdas returned\"\n",
      "Warning message in getcoef(fit, nvars, nx, vnames):\n",
      "\"an empty model has been returned; probably a convergence issue\"\n",
      "Warning message:\n",
      "\"from glmnet Fortran code (error code -1); Convergence for 1th lambda value not reached after maxit=100000 iterations; solutions for larger lambdas returned\"\n",
      "Warning message in getcoef(fit, nvars, nx, vnames):\n",
      "\"an empty model has been returned; probably a convergence issue\"\n",
      "Warning message:\n",
      "\"from glmnet Fortran code (error code -1); Convergence for 1th lambda value not reached after maxit=100000 iterations; solutions for larger lambdas returned\"\n",
      "Warning message in getcoef(fit, nvars, nx, vnames):\n",
      "\"an empty model has been returned; probably a convergence issue\"\n",
      "Warning message:\n",
      "\"from glmnet Fortran code (error code -1); Convergence for 1th lambda value not reached after maxit=100000 iterations; solutions for larger lambdas returned\"\n",
      "Warning message in getcoef(fit, nvars, nx, vnames):\n",
      "\"an empty model has been returned; probably a convergence issue\"\n",
      "Warning message:\n",
      "\"from glmnet Fortran code (error code -1); Convergence for 1th lambda value not reached after maxit=100000 iterations; solutions for larger lambdas returned\"\n",
      "Warning message in getcoef(fit, nvars, nx, vnames):\n",
      "\"an empty model has been returned; probably a convergence issue\"\n",
      "Warning message:\n",
      "\"from glmnet Fortran code (error code -1); Convergence for 1th lambda value not reached after maxit=100000 iterations; solutions for larger lambdas returned\"\n",
      "Warning message in getcoef(fit, nvars, nx, vnames):\n",
      "\"an empty model has been returned; probably a convergence issue\"\n",
      "Warning message:\n",
      "\"from glmnet Fortran code (error code -1); Convergence for 1th lambda value not reached after maxit=100000 iterations; solutions for larger lambdas returned\"\n",
      "Warning message in getcoef(fit, nvars, nx, vnames):\n",
      "\"an empty model has been returned; probably a convergence issue\"\n",
      "Warning message:\n",
      "\"from glmnet Fortran code (error code -1); Convergence for 1th lambda value not reached after maxit=100000 iterations; solutions for larger lambdas returned\"\n",
      "Warning message in getcoef(fit, nvars, nx, vnames):\n",
      "\"an empty model has been returned; probably a convergence issue\"\n",
      "Warning message:\n",
      "\"from glmnet Fortran code (error code -1); Convergence for 1th lambda value not reached after maxit=100000 iterations; solutions for larger lambdas returned\"\n",
      "Warning message in getcoef(fit, nvars, nx, vnames):\n",
      "\"an empty model has been returned; probably a convergence issue\"\n",
      "Warning message:\n",
      "\"from glmnet Fortran code (error code -1); Convergence for 1th lambda value not reached after maxit=100000 iterations; solutions for larger lambdas returned\"\n",
      "Warning message in getcoef(fit, nvars, nx, vnames):\n",
      "\"an empty model has been returned; probably a convergence issue\"\n",
      "Warning message:\n",
      "\"from glmnet Fortran code (error code -1); Convergence for 1th lambda value not reached after maxit=100000 iterations; solutions for larger lambdas returned\"\n",
      "Warning message in getcoef(fit, nvars, nx, vnames):\n",
      "\"an empty model has been returned; probably a convergence issue\"\n",
      "Warning message:\n",
      "\"from glmnet Fortran code (error code -1); Convergence for 1th lambda value not reached after maxit=100000 iterations; solutions for larger lambdas returned\"\n",
      "Warning message in getcoef(fit, nvars, nx, vnames):\n",
      "\"an empty model has been returned; probably a convergence issue\"\n",
      "Warning message:\n",
      "\"from glmnet Fortran code (error code -1); Convergence for 1th lambda value not reached after maxit=100000 iterations; solutions for larger lambdas returned\"\n",
      "Warning message in getcoef(fit, nvars, nx, vnames):\n",
      "\"an empty model has been returned; probably a convergence issue\"\n",
      "Warning message:\n",
      "\"from glmnet Fortran code (error code -1); Convergence for 1th lambda value not reached after maxit=100000 iterations; solutions for larger lambdas returned\"\n",
      "Warning message in getcoef(fit, nvars, nx, vnames):\n",
      "\"an empty model has been returned; probably a convergence issue\"\n",
      "Warning message:\n",
      "\"from glmnet Fortran code (error code -1); Convergence for 1th lambda value not reached after maxit=100000 iterations; solutions for larger lambdas returned\"\n",
      "Warning message in getcoef(fit, nvars, nx, vnames):\n",
      "\"an empty model has been returned; probably a convergence issue\"\n",
      "Warning message:\n",
      "\"from glmnet Fortran code (error code -1); Convergence for 1th lambda value not reached after maxit=100000 iterations; solutions for larger lambdas returned\"\n",
      "Warning message in getcoef(fit, nvars, nx, vnames):\n",
      "\"an empty model has been returned; probably a convergence issue\"\n",
      "Warning message:\n",
      "\"from glmnet Fortran code (error code -1); Convergence for 1th lambda value not reached after maxit=100000 iterations; solutions for larger lambdas returned\"\n",
      "Warning message in getcoef(fit, nvars, nx, vnames):\n",
      "\"an empty model has been returned; probably a convergence issue\"\n",
      "Warning message:\n",
      "\"from glmnet Fortran code (error code -1); Convergence for 1th lambda value not reached after maxit=100000 iterations; solutions for larger lambdas returned\"\n",
      "Warning message in getcoef(fit, nvars, nx, vnames):\n",
      "\"an empty model has been returned; probably a convergence issue\"\n",
      "Warning message:\n",
      "\"from glmnet Fortran code (error code -1); Convergence for 1th lambda value not reached after maxit=100000 iterations; solutions for larger lambdas returned\"\n",
      "Warning message in getcoef(fit, nvars, nx, vnames):\n",
      "\"an empty model has been returned; probably a convergence issue\"\n",
      "Warning message:\n",
      "\"from glmnet Fortran code (error code -1); Convergence for 1th lambda value not reached after maxit=100000 iterations; solutions for larger lambdas returned\"\n",
      "Warning message in getcoef(fit, nvars, nx, vnames):\n",
      "\"an empty model has been returned; probably a convergence issue\"\n",
      "Warning message:\n",
      "\"from glmnet Fortran code (error code -1); Convergence for 1th lambda value not reached after maxit=100000 iterations; solutions for larger lambdas returned\"\n",
      "Warning message in getcoef(fit, nvars, nx, vnames):\n",
      "\"an empty model has been returned; probably a convergence issue\"\n",
      "Warning message:\n",
      "\"from glmnet Fortran code (error code -1); Convergence for 1th lambda value not reached after maxit=100000 iterations; solutions for larger lambdas returned\"\n",
      "Warning message in getcoef(fit, nvars, nx, vnames):\n",
      "\"an empty model has been returned; probably a convergence issue\"\n",
      "Warning message:\n",
      "\"from glmnet Fortran code (error code -1); Convergence for 1th lambda value not reached after maxit=100000 iterations; solutions for larger lambdas returned\"\n",
      "Warning message in getcoef(fit, nvars, nx, vnames):\n",
      "\"an empty model has been returned; probably a convergence issue\"\n",
      "Warning message:\n",
      "\"from glmnet Fortran code (error code -1); Convergence for 1th lambda value not reached after maxit=100000 iterations; solutions for larger lambdas returned\"\n",
      "Warning message in getcoef(fit, nvars, nx, vnames):\n",
      "\"an empty model has been returned; probably a convergence issue\"\n",
      "Warning message:\n",
      "\"from glmnet Fortran code (error code -1); Convergence for 1th lambda value not reached after maxit=100000 iterations; solutions for larger lambdas returned\"\n",
      "Warning message in getcoef(fit, nvars, nx, vnames):\n",
      "\"an empty model has been returned; probably a convergence issue\"\n",
      "Warning message:\n",
      "\"from glmnet Fortran code (error code -1); Convergence for 1th lambda value not reached after maxit=100000 iterations; solutions for larger lambdas returned\"\n",
      "Warning message in getcoef(fit, nvars, nx, vnames):\n",
      "\"an empty model has been returned; probably a convergence issue\"\n",
      "Warning message:\n",
      "\"from glmnet Fortran code (error code -1); Convergence for 1th lambda value not reached after maxit=100000 iterations; solutions for larger lambdas returned\"\n"
     ]
    },
    {
     "name": "stderr",
     "output_type": "stream",
     "text": [
      "Warning message in getcoef(fit, nvars, nx, vnames):\n",
      "\"an empty model has been returned; probably a convergence issue\"\n",
      "Warning message:\n",
      "\"from glmnet Fortran code (error code -1); Convergence for 1th lambda value not reached after maxit=100000 iterations; solutions for larger lambdas returned\"\n",
      "Warning message in getcoef(fit, nvars, nx, vnames):\n",
      "\"an empty model has been returned; probably a convergence issue\"\n",
      "Warning message:\n",
      "\"from glmnet Fortran code (error code -1); Convergence for 1th lambda value not reached after maxit=100000 iterations; solutions for larger lambdas returned\"\n",
      "Warning message in getcoef(fit, nvars, nx, vnames):\n",
      "\"an empty model has been returned; probably a convergence issue\"\n",
      "Warning message:\n",
      "\"from glmnet Fortran code (error code -1); Convergence for 1th lambda value not reached after maxit=100000 iterations; solutions for larger lambdas returned\"\n",
      "Warning message in getcoef(fit, nvars, nx, vnames):\n",
      "\"an empty model has been returned; probably a convergence issue\"\n",
      "Warning message:\n",
      "\"from glmnet Fortran code (error code -30001); Numerical error at 1th lambda value; solutions for larger values of lambda returned\"\n",
      "Warning message in getcoef(fit, nvars, nx, vnames):\n",
      "\"an empty model has been returned; probably a convergence issue\"\n",
      "Warning message:\n",
      "\"from glmnet Fortran code (error code -1); Convergence for 1th lambda value not reached after maxit=100000 iterations; solutions for larger lambdas returned\"\n",
      "Warning message in getcoef(fit, nvars, nx, vnames):\n",
      "\"an empty model has been returned; probably a convergence issue\"\n",
      "Warning message:\n",
      "\"from glmnet Fortran code (error code -1); Convergence for 1th lambda value not reached after maxit=100000 iterations; solutions for larger lambdas returned\"\n",
      "Warning message in getcoef(fit, nvars, nx, vnames):\n",
      "\"an empty model has been returned; probably a convergence issue\"\n",
      "Warning message:\n",
      "\"from glmnet Fortran code (error code -1); Convergence for 1th lambda value not reached after maxit=100000 iterations; solutions for larger lambdas returned\"\n",
      "Warning message in getcoef(fit, nvars, nx, vnames):\n",
      "\"an empty model has been returned; probably a convergence issue\"\n",
      "Warning message:\n",
      "\"from glmnet Fortran code (error code -1); Convergence for 1th lambda value not reached after maxit=100000 iterations; solutions for larger lambdas returned\"\n",
      "Warning message in getcoef(fit, nvars, nx, vnames):\n",
      "\"an empty model has been returned; probably a convergence issue\"\n",
      "Warning message:\n",
      "\"from glmnet Fortran code (error code -1); Convergence for 1th lambda value not reached after maxit=100000 iterations; solutions for larger lambdas returned\"\n",
      "Warning message in getcoef(fit, nvars, nx, vnames):\n",
      "\"an empty model has been returned; probably a convergence issue\"\n",
      "Warning message:\n",
      "\"from glmnet Fortran code (error code -1); Convergence for 1th lambda value not reached after maxit=100000 iterations; solutions for larger lambdas returned\"\n",
      "Warning message in getcoef(fit, nvars, nx, vnames):\n",
      "\"an empty model has been returned; probably a convergence issue\"\n",
      "Warning message:\n",
      "\"from glmnet Fortran code (error code -1); Convergence for 1th lambda value not reached after maxit=100000 iterations; solutions for larger lambdas returned\"\n",
      "Warning message in getcoef(fit, nvars, nx, vnames):\n",
      "\"an empty model has been returned; probably a convergence issue\"\n",
      "Warning message:\n",
      "\"from glmnet Fortran code (error code -1); Convergence for 1th lambda value not reached after maxit=100000 iterations; solutions for larger lambdas returned\"\n",
      "Warning message in getcoef(fit, nvars, nx, vnames):\n",
      "\"an empty model has been returned; probably a convergence issue\"\n",
      "Warning message:\n",
      "\"from glmnet Fortran code (error code -1); Convergence for 1th lambda value not reached after maxit=100000 iterations; solutions for larger lambdas returned\"\n",
      "Warning message in getcoef(fit, nvars, nx, vnames):\n",
      "\"an empty model has been returned; probably a convergence issue\"\n",
      "Warning message:\n",
      "\"from glmnet Fortran code (error code -1); Convergence for 1th lambda value not reached after maxit=100000 iterations; solutions for larger lambdas returned\"\n",
      "Warning message in getcoef(fit, nvars, nx, vnames):\n",
      "\"an empty model has been returned; probably a convergence issue\"\n",
      "Warning message:\n",
      "\"from glmnet Fortran code (error code -1); Convergence for 1th lambda value not reached after maxit=100000 iterations; solutions for larger lambdas returned\"\n",
      "Warning message in getcoef(fit, nvars, nx, vnames):\n",
      "\"an empty model has been returned; probably a convergence issue\"\n",
      "Warning message:\n",
      "\"from glmnet Fortran code (error code -1); Convergence for 1th lambda value not reached after maxit=100000 iterations; solutions for larger lambdas returned\"\n",
      "Warning message in getcoef(fit, nvars, nx, vnames):\n",
      "\"an empty model has been returned; probably a convergence issue\"\n",
      "Warning message:\n",
      "\"from glmnet Fortran code (error code -1); Convergence for 1th lambda value not reached after maxit=100000 iterations; solutions for larger lambdas returned\"\n",
      "Warning message in getcoef(fit, nvars, nx, vnames):\n",
      "\"an empty model has been returned; probably a convergence issue\"\n",
      "Warning message:\n",
      "\"from glmnet Fortran code (error code -1); Convergence for 1th lambda value not reached after maxit=100000 iterations; solutions for larger lambdas returned\"\n",
      "Warning message in getcoef(fit, nvars, nx, vnames):\n",
      "\"an empty model has been returned; probably a convergence issue\"\n",
      "Warning message:\n",
      "\"from glmnet Fortran code (error code -1); Convergence for 1th lambda value not reached after maxit=100000 iterations; solutions for larger lambdas returned\"\n",
      "Warning message in getcoef(fit, nvars, nx, vnames):\n",
      "\"an empty model has been returned; probably a convergence issue\"\n",
      "Warning message:\n",
      "\"from glmnet Fortran code (error code -1); Convergence for 1th lambda value not reached after maxit=100000 iterations; solutions for larger lambdas returned\"\n",
      "Warning message in getcoef(fit, nvars, nx, vnames):\n",
      "\"an empty model has been returned; probably a convergence issue\"\n",
      "Warning message:\n",
      "\"from glmnet Fortran code (error code -1); Convergence for 1th lambda value not reached after maxit=100000 iterations; solutions for larger lambdas returned\"\n",
      "Warning message in getcoef(fit, nvars, nx, vnames):\n",
      "\"an empty model has been returned; probably a convergence issue\"\n",
      "Warning message:\n",
      "\"from glmnet Fortran code (error code -1); Convergence for 1th lambda value not reached after maxit=100000 iterations; solutions for larger lambdas returned\"\n",
      "Warning message in getcoef(fit, nvars, nx, vnames):\n",
      "\"an empty model has been returned; probably a convergence issue\"\n",
      "Warning message:\n",
      "\"from glmnet Fortran code (error code -1); Convergence for 1th lambda value not reached after maxit=100000 iterations; solutions for larger lambdas returned\"\n",
      "Warning message in getcoef(fit, nvars, nx, vnames):\n",
      "\"an empty model has been returned; probably a convergence issue\"\n",
      "Warning message:\n",
      "\"from glmnet Fortran code (error code -1); Convergence for 1th lambda value not reached after maxit=100000 iterations; solutions for larger lambdas returned\"\n",
      "Warning message in getcoef(fit, nvars, nx, vnames):\n",
      "\"an empty model has been returned; probably a convergence issue\"\n",
      "Warning message:\n",
      "\"from glmnet Fortran code (error code -1); Convergence for 1th lambda value not reached after maxit=100000 iterations; solutions for larger lambdas returned\"\n",
      "Warning message in getcoef(fit, nvars, nx, vnames):\n",
      "\"an empty model has been returned; probably a convergence issue\"\n",
      "Warning message:\n",
      "\"from glmnet Fortran code (error code -1); Convergence for 1th lambda value not reached after maxit=100000 iterations; solutions for larger lambdas returned\"\n",
      "Warning message in getcoef(fit, nvars, nx, vnames):\n",
      "\"an empty model has been returned; probably a convergence issue\"\n",
      "Warning message:\n",
      "\"from glmnet Fortran code (error code -1); Convergence for 1th lambda value not reached after maxit=100000 iterations; solutions for larger lambdas returned\"\n",
      "Warning message in getcoef(fit, nvars, nx, vnames):\n",
      "\"an empty model has been returned; probably a convergence issue\"\n",
      "Warning message:\n",
      "\"from glmnet Fortran code (error code -1); Convergence for 1th lambda value not reached after maxit=100000 iterations; solutions for larger lambdas returned\"\n",
      "Warning message in getcoef(fit, nvars, nx, vnames):\n",
      "\"an empty model has been returned; probably a convergence issue\"\n"
     ]
    },
    {
     "name": "stderr",
     "output_type": "stream",
     "text": [
      "Warning message:\n",
      "\"from glmnet Fortran code (error code -1); Convergence for 1th lambda value not reached after maxit=100000 iterations; solutions for larger lambdas returned\"\n",
      "Warning message in getcoef(fit, nvars, nx, vnames):\n",
      "\"an empty model has been returned; probably a convergence issue\"\n",
      "Warning message:\n",
      "\"from glmnet Fortran code (error code -1); Convergence for 1th lambda value not reached after maxit=100000 iterations; solutions for larger lambdas returned\"\n",
      "Warning message in getcoef(fit, nvars, nx, vnames):\n",
      "\"an empty model has been returned; probably a convergence issue\"\n",
      "Warning message:\n",
      "\"from glmnet Fortran code (error code -1); Convergence for 1th lambda value not reached after maxit=100000 iterations; solutions for larger lambdas returned\"\n",
      "Warning message in getcoef(fit, nvars, nx, vnames):\n",
      "\"an empty model has been returned; probably a convergence issue\"\n",
      "Warning message:\n",
      "\"from glmnet Fortran code (error code -1); Convergence for 1th lambda value not reached after maxit=100000 iterations; solutions for larger lambdas returned\"\n",
      "Warning message in getcoef(fit, nvars, nx, vnames):\n",
      "\"an empty model has been returned; probably a convergence issue\"\n",
      "Warning message:\n",
      "\"from glmnet Fortran code (error code -1); Convergence for 1th lambda value not reached after maxit=100000 iterations; solutions for larger lambdas returned\"\n",
      "Warning message in getcoef(fit, nvars, nx, vnames):\n",
      "\"an empty model has been returned; probably a convergence issue\"\n",
      "Warning message:\n",
      "\"from glmnet Fortran code (error code -1); Convergence for 1th lambda value not reached after maxit=100000 iterations; solutions for larger lambdas returned\"\n",
      "Warning message in getcoef(fit, nvars, nx, vnames):\n",
      "\"an empty model has been returned; probably a convergence issue\"\n",
      "Warning message:\n",
      "\"from glmnet Fortran code (error code -1); Convergence for 1th lambda value not reached after maxit=100000 iterations; solutions for larger lambdas returned\"\n",
      "Warning message in getcoef(fit, nvars, nx, vnames):\n",
      "\"an empty model has been returned; probably a convergence issue\"\n",
      "Warning message:\n",
      "\"from glmnet Fortran code (error code -1); Convergence for 1th lambda value not reached after maxit=100000 iterations; solutions for larger lambdas returned\"\n",
      "Warning message in getcoef(fit, nvars, nx, vnames):\n",
      "\"an empty model has been returned; probably a convergence issue\"\n"
     ]
    },
    {
     "data": {
      "text/plain": [
       "\n",
       "Call:  cv.glmnet(x = (as.matrix(trainingC[, c(-148, -149)])), y = Surv(trainingC$SurvivalTime,      trainingC$Event), nfolds = 5, relax = TRUE, family = \"cox\") \n",
       "\n",
       "Measure: Partial Likelihood Deviance \n",
       "\n",
       "    Gamma  Lambda Measure     SE Nonzero\n",
       "min  0.75 0.08697   11.45 0.1722      10\n",
       "1se  0.75 0.26558   11.60 0.1680       4"
      ]
     },
     "metadata": {},
     "output_type": "display_data"
    },
    {
     "data": {
      "text/plain": [
       "147 x 1 sparse Matrix of class \"dgCMatrix\"\n",
       "                                                      s0\n",
       "Mstage                                        .         \n",
       "Nstage                                        .         \n",
       "Tstage                                        .         \n",
       "age                                           .         \n",
       "X10Percentile                                 .         \n",
       "X90Percentile                                 .         \n",
       "Energy                                        .         \n",
       "Entropy                                       .         \n",
       "InterquartileRange                            .         \n",
       "Kurtosis                                      .         \n",
       "Maximum                                       .         \n",
       "MeanAbsoluteDeviation                         .         \n",
       "Mean                                          .         \n",
       "Median                                        .         \n",
       "Minimum                                       .         \n",
       "Range                                         .         \n",
       "RobustMeanAbsoluteDeviation                   .         \n",
       "RootMeanSquared                               .         \n",
       "Skewness                                      .         \n",
       "TotalEnergy                                   .         \n",
       "Uniformity                                    .         \n",
       "Variance                                      .         \n",
       "Elongation                                    .         \n",
       "Flatness                                      .         \n",
       "LeastAxisLength                               .         \n",
       "MajorAxisLength                               .         \n",
       "Maximum2DDiameterColumn                       .         \n",
       "Maximum2DDiameterRow                          .         \n",
       "Maximum2DDiameterSlice                        .         \n",
       "Maximum3DDiameter                             .         \n",
       "MeshVolume                                    .         \n",
       "MinorAxisLength                               .         \n",
       "Sphericity                                    .         \n",
       "SurfaceArea                                   .         \n",
       "SurfaceVolumeRatio                            .         \n",
       "VoxelVolume                                   .         \n",
       "Autocorrelation                               .         \n",
       "ClusterProminence                             .         \n",
       "ClusterShade                                  .         \n",
       "ClusterTendency                               .         \n",
       "Contrast                                      .         \n",
       "Correlation                                   .         \n",
       "DifferenceAverage                             .         \n",
       "DifferenceEntropy                             .         \n",
       "DifferenceVariance                            .         \n",
       "Id                                            .         \n",
       "Idm                                           0.04362953\n",
       "Idmn                                          .         \n",
       "Idn                                           0.02763409\n",
       "Imc1                                          .         \n",
       "Imc2                                          .         \n",
       "InverseVariance                               .         \n",
       "JointAverage                                  .         \n",
       "JointEnergy                                   .         \n",
       "JointEntropy                                  .         \n",
       "MCC                                           .         \n",
       "MaximumProbability                            .         \n",
       "SumAverage                                    .         \n",
       "SumEntropy                                    .         \n",
       "SumSquares                                    .         \n",
       "GrayLevelNonUniformity                        .         \n",
       "GrayLevelNonUniformityNormalized              .         \n",
       "GrayLevelVariance                             .         \n",
       "HighGrayLevelRunEmphasis                      .         \n",
       "LongRunEmphasis                               .         \n",
       "LongRunHighGrayLevelEmphasis                  .         \n",
       "LongRunLowGrayLevelEmphasis                   .         \n",
       "LowGrayLevelRunEmphasis                       .         \n",
       "RunEntropy                                    .         \n",
       "RunLengthNonUniformity                        .         \n",
       "RunLengthNonUniformityNormalized              .         \n",
       "RunPercentage                                 .         \n",
       "RunVariance                                   .         \n",
       "ShortRunEmphasis                              .         \n",
       "ShortRunHighGrayLevelEmphasis                 .         \n",
       "ShortRunLowGrayLevelEmphasis                  .         \n",
       "HighGrayLevelZoneEmphasis                     .         \n",
       "LargeAreaEmphasis                             .         \n",
       "LargeAreaHighGrayLevelEmphasis                .         \n",
       "LargeAreaLowGrayLevelEmphasis                 .         \n",
       "LowGrayLevelZoneEmphasis                      .         \n",
       "SizeZoneNonUniformity                         .         \n",
       "SizeZoneNonUniformityNormalized               .         \n",
       "SmallAreaEmphasis                             .         \n",
       "SmallAreaHighGrayLevelEmphasis                .         \n",
       "SmallAreaLowGrayLevelEmphasis                 .         \n",
       "ZoneEntropy                                   .         \n",
       "ZonePercentage                                .         \n",
       "ZoneVariance                                  .         \n",
       "Cluster                                       .         \n",
       "Adenocarcinoma                                .         \n",
       "LargeCell                                     .         \n",
       "Squamous                                      .         \n",
       "Source                                       -0.08765586\n",
       "original_shape_Compactness1                   .         \n",
       "original_shape_Compactness2                   .         \n",
       "original_shape_Maximum3DDiameter              .         \n",
       "original_shape_SphericalDisproportion         .         \n",
       "original_shape_Sphericity                     .         \n",
       "original_shape_SurfaceArea                    .         \n",
       "original_shape_SurfaceVolumeRatio             .         \n",
       "original_shape_VoxelVolume                    .         \n",
       "original_firstorder_Energy                    .         \n",
       "original_firstorder_Entropy                   .         \n",
       "original_firstorder_Kurtosis                  .         \n",
       "original_firstorder_Maximum                   .         \n",
       "original_firstorder_Mean                      .         \n",
       "original_firstorder_MeanAbsoluteDeviation     .         \n",
       "original_firstorder_Median                    .         \n",
       "original_firstorder_Minimum                   .         \n",
       "original_firstorder_Range                     .         \n",
       "original_firstorder_RootMeanSquared           .         \n",
       "original_firstorder_Skewness                  .         \n",
       "original_firstorder_StandardDeviation         .         \n",
       "original_firstorder_Uniformity                .         \n",
       "original_firstorder_Variance                  .         \n",
       "original_glcm_Autocorrelation                 .         \n",
       "original_glcm_ClusterProminence               .         \n",
       "original_glcm_ClusterShade                    .         \n",
       "original_glcm_ClusterTendency                 .         \n",
       "original_glcm_Contrast                        .         \n",
       "original_glcm_Correlation                     .         \n",
       "original_glcm_DifferenceEntropy               .         \n",
       "original_glcm_DifferenceAverage               .         \n",
       "original_glcm_JointEnergy                     .         \n",
       "original_glcm_JointEntropy                    .         \n",
       "original_glcm_Id                              .         \n",
       "original_glcm_Idm                             .         \n",
       "original_glcm_Imc1                            .         \n",
       "original_glcm_Imc2                            .         \n",
       "original_glcm_Idmn                            .         \n",
       "original_glcm_Idn                             .         \n",
       "original_glcm_InverseVariance                 .         \n",
       "original_glcm_MaximumProbability              .         \n",
       "original_glcm_SumAverage                      .         \n",
       "original_glcm_SumEntropy                      .         \n",
       "original_glrlm_ShortRunEmphasis               .         \n",
       "original_glrlm_LongRunEmphasis                .         \n",
       "original_glrlm_GrayLevelNonUniformity         .         \n",
       "original_glrlm_RunLengthNonUniformity         .         \n",
       "original_glrlm_RunPercentage                  .         \n",
       "original_glrlm_LowGrayLevelRunEmphasis        .         \n",
       "original_glrlm_HighGrayLevelRunEmphasis       .         \n",
       "original_glrlm_ShortRunLowGrayLevelEmphasis   .         \n",
       "original_glrlm_ShortRunHighGrayLevelEmphasis  .         \n",
       "original_glrlm_LongRunLowGrayLevelEmphasis    .         \n",
       "original_glrlm_LongRunHighGrayLevelEmphasis   .         "
      ]
     },
     "metadata": {},
     "output_type": "display_data"
    },
    {
     "data": {
      "image/png": "[encoded data removed]",
      "text/plain": [
       "plot without title"
      ]
     },
     "metadata": {
      "image/png": {
       "height": 420,
       "width": 420
      },
      "text/plain": {
       "height": 420,
       "width": 420
      }
     },
     "output_type": "display_data"
    }
   ],
   "source": [
    "fitC = cv.glmnet((as.matrix(trainingC[,c(-148,-149)])), Surv(trainingC$SurvivalTime, trainingC$Event),family = \"cox\", nfolds = 5, relax=TRUE)\n",
    "fitC\n",
    "plot(fitC)\n",
    "modelC = glmnet((as.matrix(trainingC[,c(-148,-149)])), Surv(trainingC$SurvivalTime, trainingC$Event),family = \"cox\", lambda=fitB$lambda.1se)\n",
    "modelC$beta"
   ]
  },
  {
   "cell_type": "markdown",
   "metadata": {},
   "source": [
    "## New data selection"
   ]
  },
  {
   "cell_type": "code",
   "execution_count": 2,
   "metadata": {},
   "outputs": [],
   "source": [
    "data=read.csv('C:/Users/ddalt/Desktop/DSTI/Data Challenge/OWKIN/exportForDataSelection.csv')"
   ]
  },
  {
   "cell_type": "code",
   "execution_count": 4,
   "metadata": {},
   "outputs": [
    {
     "data": {
      "text/html": [
       "<ol class=list-inline>\n",
       "\t<li>300</li>\n",
       "\t<li>66</li>\n",
       "</ol>\n"
      ],
      "text/latex": [
       "\\begin{enumerate*}\n",
       "\\item 300\n",
       "\\item 66\n",
       "\\end{enumerate*}\n"
      ],
      "text/markdown": [
       "1. 300\n",
       "2. 66\n",
       "\n",
       "\n"
      ],
      "text/plain": [
       "[1] 300  66"
      ]
     },
     "metadata": {},
     "output_type": "display_data"
    }
   ],
   "source": [
    "dim(data)"
   ]
  },
  {
   "cell_type": "code",
   "execution_count": 13,
   "metadata": {},
   "outputs": [
    {
     "data": {
      "text/html": [
       "0.242168211686721"
      ],
      "text/latex": [
       "0.242168211686721"
      ],
      "text/markdown": [
       "0.242168211686721"
      ],
      "text/plain": [
       "[1] 0.2421682"
      ]
     },
     "metadata": {},
     "output_type": "display_data"
    }
   ],
   "source": [
    "fit$relaxed$lambda.1se"
   ]
  },
  {
   "cell_type": "code",
   "execution_count": 10,
   "metadata": {},
   "outputs": [],
   "source": [
    "fit = cv.glmnet((as.matrix(data[,c(-65,-66)])), Surv(data$SurvivalTime, data$Event),family = \"cox\", nfolds = 300, relax=False)"
   ]
  },
  {
   "cell_type": "code",
   "execution_count": 14,
   "metadata": {},
   "outputs": [
    {
     "data": {
      "text/plain": [
       "\n",
       "Call:  cv.glmnet(x = (as.matrix(data[, c(-65, -66)])), y = Surv(data$SurvivalTime,      data$Event), nfolds = 300, relax = TRUE, family = \"cox\") \n",
       "\n",
       "Measure: Partial Likelihood Deviance \n",
       "\n",
       "    Gamma  Lambda Measure      SE Nonzero\n",
       "min  0.50 0.05999   10.35 0.08194      10\n",
       "1se  0.25 0.24217   10.41 0.07916       3"
      ]
     },
     "metadata": {},
     "output_type": "display_data"
    },
    {
     "data": {
      "text/plain": [
       "64 x 1 sparse Matrix of class \"dgCMatrix\"\n",
       "                                                       s0\n",
       "PatientID                                     .          \n",
       "Mstage                                        0.029992905\n",
       "Nstage                                        0.090645830\n",
       "SourceDataset                                -0.316237387\n",
       "Tstage                                        .          \n",
       "age                                           0.084518016\n",
       "original_shape_Compactness1                   .          \n",
       "original_shape_Compactness2                   .          \n",
       "original_shape_Maximum3DDiameter              .          \n",
       "original_shape_SphericalDisproportion         .          \n",
       "original_shape_Sphericity                     .          \n",
       "original_shape_SurfaceArea                    .          \n",
       "original_shape_SurfaceVolumeRatio             .          \n",
       "original_shape_VoxelVolume                    0.076399191\n",
       "original_firstorder_Energy                    .          \n",
       "original_firstorder_Entropy                   .          \n",
       "original_firstorder_Kurtosis                  .          \n",
       "original_firstorder_Maximum                   0.005742481\n",
       "original_firstorder_Mean                      0.121351571\n",
       "original_firstorder_MeanAbsoluteDeviation     .          \n",
       "original_firstorder_Median                    .          \n",
       "original_firstorder_Minimum                   .          \n",
       "original_firstorder_Range                     .          \n",
       "original_firstorder_RootMeanSquared           .          \n",
       "original_firstorder_Skewness                  .          \n",
       "original_firstorder_StandardDeviation         .          \n",
       "original_firstorder_Uniformity                .          \n",
       "original_firstorder_Variance                  .          \n",
       "original_glcm_Autocorrelation                 .          \n",
       "original_glcm_ClusterProminence               0.114293911\n",
       "original_glcm_ClusterShade                    .          \n",
       "original_glcm_ClusterTendency                 .          \n",
       "original_glcm_Contrast                        .          \n",
       "original_glcm_Correlation                     .          \n",
       "original_glcm_DifferenceEntropy               .          \n",
       "original_glcm_DifferenceAverage               .          \n",
       "original_glcm_JointEnergy                     .          \n",
       "original_glcm_JointEntropy                    .          \n",
       "original_glcm_Id                              .          \n",
       "original_glcm_Idm                             0.007116842\n",
       "original_glcm_Imc1                            .          \n",
       "original_glcm_Imc2                            .          \n",
       "original_glcm_Idmn                            .          \n",
       "original_glcm_Idn                             .          \n",
       "original_glcm_InverseVariance                 .          \n",
       "original_glcm_MaximumProbability              .          \n",
       "original_glcm_SumAverage                      .          \n",
       "original_glcm_SumEntropy                      .          \n",
       "original_glrlm_ShortRunEmphasis               .          \n",
       "original_glrlm_LongRunEmphasis                .          \n",
       "original_glrlm_GrayLevelNonUniformity         .          \n",
       "original_glrlm_RunLengthNonUniformity         .          \n",
       "original_glrlm_RunPercentage                 -0.133298405\n",
       "original_glrlm_LowGrayLevelRunEmphasis        .          \n",
       "original_glrlm_HighGrayLevelRunEmphasis       .          \n",
       "original_glrlm_ShortRunLowGrayLevelEmphasis   .          \n",
       "original_glrlm_ShortRunHighGrayLevelEmphasis  .          \n",
       "original_glrlm_LongRunLowGrayLevelEmphasis    .          \n",
       "original_glrlm_LongRunHighGrayLevelEmphasis   .          \n",
       "Adenocarcinoma                                .          \n",
       "Squamous                                      .          \n",
       "Nos                                           .          \n",
       "Nscl                                          .          \n",
       "Largecell                                     .          "
      ]
     },
     "metadata": {},
     "output_type": "display_data"
    },
    {
     "data": {
      "image/png": "[encoded data removed]",
      "text/plain": [
       "plot without title"
      ]
     },
     "metadata": {
      "image/png": {
       "height": 420,
       "width": 420
      },
      "text/plain": {
       "height": 420,
       "width": 420
      }
     },
     "output_type": "display_data"
    }
   ],
   "source": [
    "fit\n",
    "plot(fit)\n",
    "model = glmnet((as.matrix(data[,c(-65,-66)])), Surv(data$SurvivalTime, data$Event),family = \"cox\",lambda=fit$relaxed$lambda.min,  gamma=fit$relaxed$gamma.min)\n",
    "model$beta"
   ]
  },
  {
   "cell_type": "code",
   "execution_count": 16,
   "metadata": {},
   "outputs": [
    {
     "data": {
      "text/plain": [
       "64 x 1 sparse Matrix of class \"dgCMatrix\"\n",
       "                                                       s0\n",
       "PatientID                                     .          \n",
       "Mstage                                        0.029992905\n",
       "Nstage                                        0.090645830\n",
       "SourceDataset                                -0.316237387\n",
       "Tstage                                        .          \n",
       "age                                           0.084518016\n",
       "original_shape_Compactness1                   .          \n",
       "original_shape_Compactness2                   .          \n",
       "original_shape_Maximum3DDiameter              .          \n",
       "original_shape_SphericalDisproportion         .          \n",
       "original_shape_Sphericity                     .          \n",
       "original_shape_SurfaceArea                    .          \n",
       "original_shape_SurfaceVolumeRatio             .          \n",
       "original_shape_VoxelVolume                    0.076399191\n",
       "original_firstorder_Energy                    .          \n",
       "original_firstorder_Entropy                   .          \n",
       "original_firstorder_Kurtosis                  .          \n",
       "original_firstorder_Maximum                   0.005742481\n",
       "original_firstorder_Mean                      0.121351571\n",
       "original_firstorder_MeanAbsoluteDeviation     .          \n",
       "original_firstorder_Median                    .          \n",
       "original_firstorder_Minimum                   .          \n",
       "original_firstorder_Range                     .          \n",
       "original_firstorder_RootMeanSquared           .          \n",
       "original_firstorder_Skewness                  .          \n",
       "original_firstorder_StandardDeviation         .          \n",
       "original_firstorder_Uniformity                .          \n",
       "original_firstorder_Variance                  .          \n",
       "original_glcm_Autocorrelation                 .          \n",
       "original_glcm_ClusterProminence               0.114293911\n",
       "original_glcm_ClusterShade                    .          \n",
       "original_glcm_ClusterTendency                 .          \n",
       "original_glcm_Contrast                        .          \n",
       "original_glcm_Correlation                     .          \n",
       "original_glcm_DifferenceEntropy               .          \n",
       "original_glcm_DifferenceAverage               .          \n",
       "original_glcm_JointEnergy                     .          \n",
       "original_glcm_JointEntropy                    .          \n",
       "original_glcm_Id                              .          \n",
       "original_glcm_Idm                             0.007116842\n",
       "original_glcm_Imc1                            .          \n",
       "original_glcm_Imc2                            .          \n",
       "original_glcm_Idmn                            .          \n",
       "original_glcm_Idn                             .          \n",
       "original_glcm_InverseVariance                 .          \n",
       "original_glcm_MaximumProbability              .          \n",
       "original_glcm_SumAverage                      .          \n",
       "original_glcm_SumEntropy                      .          \n",
       "original_glrlm_ShortRunEmphasis               .          \n",
       "original_glrlm_LongRunEmphasis                .          \n",
       "original_glrlm_GrayLevelNonUniformity         .          \n",
       "original_glrlm_RunLengthNonUniformity         .          \n",
       "original_glrlm_RunPercentage                 -0.133298405\n",
       "original_glrlm_LowGrayLevelRunEmphasis        .          \n",
       "original_glrlm_HighGrayLevelRunEmphasis       .          \n",
       "original_glrlm_ShortRunLowGrayLevelEmphasis   .          \n",
       "original_glrlm_ShortRunHighGrayLevelEmphasis  .          \n",
       "original_glrlm_LongRunLowGrayLevelEmphasis    .          \n",
       "original_glrlm_LongRunHighGrayLevelEmphasis   .          \n",
       "Adenocarcinoma                                .          \n",
       "Squamous                                      .          \n",
       "Nos                                           .          \n",
       "Nscl                                          .          \n",
       "Largecell                                     .          "
      ]
     },
     "metadata": {},
     "output_type": "display_data"
    },
    {
     "data": {
      "text/html": [
       "0.0599869152121601"
      ],
      "text/latex": [
       "0.0599869152121601"
      ],
      "text/markdown": [
       "0.0599869152121601"
      ],
      "text/plain": [
       "[1] 0.05998692"
      ]
     },
     "metadata": {},
     "output_type": "display_data"
    }
   ],
   "source": [
    "#fit2 = cv.glmnet((as.matrix(data[,c(-65,-66)])), Surv(data$SurvivalTime, data$Event),family = \"cox\", nfolds = 250, relax=TRUE)\n",
    "#fit2\n",
    "#plot(fit2)\n",
    "model2 = glmnet((as.matrix(data[,c(-65,-66)])), Surv(data$SurvivalTime, data$Event),family = \"cox\", lambda=fit2$relaxed$lambda.min,  gamma=fit2$relaxed$gamma.min)\n",
    "model2$beta\n",
    "fit2$relaxed$lambda.min"
   ]
  },
  {
   "cell_type": "code",
   "execution_count": 39,
   "metadata": {},
   "outputs": [
    {
     "data": {
      "text/plain": [
       "64 x 1 sparse Matrix of class \"dgCMatrix\"\n",
       "                                                       s0\n",
       "PatientID                                     .          \n",
       "Mstage                                        0.073422344\n",
       "Nstage                                        0.140464708\n",
       "SourceDataset                                -0.387609924\n",
       "Tstage                                        .          \n",
       "age                                           0.162215449\n",
       "original_shape_Compactness1                   .          \n",
       "original_shape_Compactness2                   .          \n",
       "original_shape_Maximum3DDiameter              .          \n",
       "original_shape_SphericalDisproportion         .          \n",
       "original_shape_Sphericity                     .          \n",
       "original_shape_SurfaceArea                    .          \n",
       "original_shape_SurfaceVolumeRatio             .          \n",
       "original_shape_VoxelVolume                    .          \n",
       "original_firstorder_Energy                    .          \n",
       "original_firstorder_Entropy                   .          \n",
       "original_firstorder_Kurtosis                  0.022036210\n",
       "original_firstorder_Maximum                   0.015292681\n",
       "original_firstorder_Mean                      0.199825515\n",
       "original_firstorder_MeanAbsoluteDeviation     .          \n",
       "original_firstorder_Median                    .          \n",
       "original_firstorder_Minimum                   .          \n",
       "original_firstorder_Range                     .          \n",
       "original_firstorder_RootMeanSquared           .          \n",
       "original_firstorder_Skewness                  .          \n",
       "original_firstorder_StandardDeviation         .          \n",
       "original_firstorder_Uniformity                .          \n",
       "original_firstorder_Variance                  .          \n",
       "original_glcm_Autocorrelation                 .          \n",
       "original_glcm_ClusterProminence               0.223605474\n",
       "original_glcm_ClusterShade                    .          \n",
       "original_glcm_ClusterTendency                 .          \n",
       "original_glcm_Contrast                        .          \n",
       "original_glcm_Correlation                     .          \n",
       "original_glcm_DifferenceEntropy               .          \n",
       "original_glcm_DifferenceAverage               .          \n",
       "original_glcm_JointEnergy                     .          \n",
       "original_glcm_JointEntropy                    .          \n",
       "original_glcm_Id                              .          \n",
       "original_glcm_Idm                             0.030113428\n",
       "original_glcm_Imc1                            .          \n",
       "original_glcm_Imc2                            .          \n",
       "original_glcm_Idmn                            .          \n",
       "original_glcm_Idn                             .          \n",
       "original_glcm_InverseVariance                 .          \n",
       "original_glcm_MaximumProbability              .          \n",
       "original_glcm_SumAverage                      .          \n",
       "original_glcm_SumEntropy                      .          \n",
       "original_glrlm_ShortRunEmphasis               .          \n",
       "original_glrlm_LongRunEmphasis                .          \n",
       "original_glrlm_GrayLevelNonUniformity         0.093590950\n",
       "original_glrlm_RunLengthNonUniformity         .          \n",
       "original_glrlm_RunPercentage                 -0.079220026\n",
       "original_glrlm_LowGrayLevelRunEmphasis        .          \n",
       "original_glrlm_HighGrayLevelRunEmphasis       .          \n",
       "original_glrlm_ShortRunLowGrayLevelEmphasis   .          \n",
       "original_glrlm_ShortRunHighGrayLevelEmphasis  .          \n",
       "original_glrlm_LongRunLowGrayLevelEmphasis    .          \n",
       "original_glrlm_LongRunHighGrayLevelEmphasis   .          \n",
       "Adenocarcinoma                                .          \n",
       "Squamous                                      .          \n",
       "Nos                                           0.008665378\n",
       "Nscl                                          0.039956768\n",
       "Largecell                                    -0.017178097"
      ]
     },
     "metadata": {},
     "output_type": "display_data"
    }
   ],
   "source": [
    "model3 = glmnet((as.matrix(data[,c(-65,-66)])), Surv(data$SurvivalTime, data$Event),family = \"cox\", lambda=0.030)\n",
    "model3$beta"
   ]
  }
 ],
 "metadata": {
  "kernelspec": {
   "display_name": "R",
   "language": "R",
   "name": "ir"
  },
  "language_info": {
   "codemirror_mode": "r",
   "file_extension": ".r",
   "mimetype": "text/x-r-source",
   "name": "R",
   "pygments_lexer": "r",
   "version": "3.6.1"
  }
 },
 "nbformat": 4,
 "nbformat_minor": 2
}
